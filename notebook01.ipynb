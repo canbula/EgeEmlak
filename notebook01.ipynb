{
 "cells": [
  {
   "cell_type": "markdown",
   "metadata": {},
   "source": [
    "Import the libraries"
   ]
  },
  {
   "cell_type": "code",
   "execution_count": 3,
   "metadata": {},
   "outputs": [],
   "source": [
    "import os\n",
    "import numpy as np\n",
    "import pandas as pd"
   ]
  },
  {
   "cell_type": "markdown",
   "metadata": {},
   "source": [
    "Load the csv file"
   ]
  },
  {
   "cell_type": "code",
   "execution_count": 6,
   "metadata": {},
   "outputs": [
    {
     "name": "stdout",
     "output_type": "stream",
     "text": [
      "<class 'pandas.core.frame.DataFrame'>\n",
      "RangeIndex: 8136 entries, 0 to 8135\n",
      "Data columns (total 18 columns):\n",
      " #   Column               Non-Null Count  Dtype  \n",
      "---  ------               --------------  -----  \n",
      " 0   img-link href        8136 non-null   object \n",
      " 1   photo-count          8130 non-null   float64\n",
      " 2   list-view-price      8136 non-null   object \n",
      " 3   list-view-date       8136 non-null   object \n",
      " 4   celly                8136 non-null   object \n",
      " 5   celly 2              8136 non-null   object \n",
      " 6   celly 3              8136 non-null   object \n",
      " 7   celly 4              6858 non-null   object \n",
      " 8   list-view-header     8129 non-null   object \n",
      " 9   list-view-location   8136 non-null   object \n",
      " 10  he-lazy-image src    7649 non-null   object \n",
      " 11  left                 8114 non-null   object \n",
      " 12  img-wrp href         4555 non-null   object \n",
      " 13  he-lazy-image src 2  4067 non-null   object \n",
      " 14  branded__text        134 non-null    object \n",
      " 15  branded__text 2      134 non-null    object \n",
      " 16  img-wrp href 2       133 non-null    object \n",
      " 17  he-lazy-image src 3  116 non-null    object \n",
      "dtypes: float64(1), object(17)\n",
      "memory usage: 1.1+ MB\n",
      "None\n",
      "       photo-count\n",
      "count  8130.000000\n",
      "mean     22.138868\n",
      "std      11.861526\n",
      "min       1.000000\n",
      "25%      13.000000\n",
      "50%      20.000000\n",
      "75%      30.000000\n",
      "max      60.000000\n",
      "                                       img-link href  photo-count  \\\n",
      "0  https://www.hepsiemlak.com/usak-banaz-cumhuriy...         10.0   \n",
      "1  https://www.hepsiemlak.com/usak-merkez-kemaloz...         17.0   \n",
      "2  https://www.hepsiemlak.com/usak-merkez-kemaloz...         11.0   \n",
      "3  https://www.hepsiemlak.com/usak-merkez-durak-k...         13.0   \n",
      "4  https://www.hepsiemlak.com/usak-merkez-cumhuri...         50.0   \n",
      "\n",
      "  list-view-price list-view-date                           celly celly 2  \\\n",
      "0             7.0     15-04-2024  3 +\\n                        1  150 m²   \n",
      "1             8.5     07-04-2024  2 +\\n                        1  110 m²   \n",
      "2             7.0     29-03-2024  1 +\\n                        1   60 m²   \n",
      "3             7.0     30-03-2024  1 +\\n                        1   50 m²   \n",
      "4            16.5     30-03-2024  4 +\\n                        1  300 m²   \n",
      "\n",
      "                             celly 3 celly 4  \\\n",
      "0  20\\n                      Yaşında   Kot 2   \n",
      "1   8\\n                      Yaşında  1. Kat   \n",
      "2                         Sıfır Bina  4. Kat   \n",
      "3  10\\n                      Yaşında  5. Kat   \n",
      "4  11\\n                      Yaşında  7. Kat   \n",
      "\n",
      "                                    list-view-header  \\\n",
      "0  Banazda Şehir Merkezinde Heryere Ulaşimi Çok Y...   \n",
      "1         Kemalöz Semt Pazarı Yanı Kiralık 2+1 Daire   \n",
      "2  Bakır Gayrimenkul Den Kiralık Atapark Yakını K...   \n",
      "3      Fatih Caddesi Üzerinde Lüks Kiralık 1+1 Apart   \n",
      "4  Uşak,Merkez,Cumhuriyet Mah.Kiralık 4+1 Dubleks...   \n",
      "\n",
      "             list-view-location  \\\n",
      "0   Banaz, Cumhuriyet Mahallesi   \n",
      "1     Merkez, Kemalöz Mahallesi   \n",
      "2     Merkez, Kemalöz Mahallesi   \n",
      "3       Merkez, Durak Mahallesi   \n",
      "4  Merkez, Cumhuriyet Mahallesi   \n",
      "\n",
      "                                   he-lazy-image src left img-wrp href  \\\n",
      "0                                                NaN  NaN          NaN   \n",
      "1                                                NaN  NaN          NaN   \n",
      "2                                                NaN  NaN          NaN   \n",
      "3  https://hecdn01.hemlak.com/mncropresize/182/13...  NaN          NaN   \n",
      "4  https://hecdn01.hemlak.com/mncropresize/182/13...  NaN          NaN   \n",
      "\n",
      "  he-lazy-image src 2 branded__text branded__text 2 img-wrp href 2  \\\n",
      "0                 NaN           NaN             NaN            NaN   \n",
      "1                 NaN           NaN             NaN            NaN   \n",
      "2                 NaN           NaN             NaN            NaN   \n",
      "3                 NaN           NaN             NaN            NaN   \n",
      "4                 NaN           NaN             NaN            NaN   \n",
      "\n",
      "  he-lazy-image src 3  \n",
      "0                 NaN  \n",
      "1                 NaN  \n",
      "2                 NaN  \n",
      "3                 NaN  \n",
      "4                 NaN  \n"
     ]
    }
   ],
   "source": [
    "# get the list of the csv files in hepsiemlak directory\n",
    "files = os.listdir(\"hepsiemlak\")\n",
    "# read the csv files and combine them into a single dataframe\n",
    "data = pd.concat([pd.read_csv(\"hepsiemlak/\" + file) for file in files])\n",
    "# reset the index of the dataframe\n",
    "data.reset_index(drop=True, inplace=True)\n",
    "# information about the data\n",
    "print(data.info())\n",
    "# describe the data\n",
    "print(data.describe())\n",
    "# Display the first 5 rows\n",
    "print(data.head())"
   ]
  },
  {
   "cell_type": "markdown",
   "metadata": {},
   "source": [
    "Get the city from the link of the image"
   ]
  },
  {
   "cell_type": "code",
   "execution_count": 13,
   "metadata": {},
   "outputs": [
    {
     "name": "stdout",
     "output_type": "stream",
     "text": [
      "              city district neighborhood\n",
      "0             usak    banaz   cumhuriyet\n",
      "1             usak   merkez      kemaloz\n",
      "2             usak   merkez      kemaloz\n",
      "3             usak   merkez        durak\n",
      "4             usak   merkez   cumhuriyet\n",
      "..             ...      ...          ...\n",
      "95  afyonkarahisar   merkez      erenler\n",
      "96  afyonkarahisar   merkez    esrefpasa\n",
      "97  afyonkarahisar   merkez      erenler\n",
      "98  afyonkarahisar   merkez      erenler\n",
      "99  afyonkarahisar   merkez        yunus\n",
      "\n",
      "[100 rows x 3 columns]\n"
     ]
    }
   ],
   "source": [
    "# get the city name from the \"img-link href\" column\n",
    "data[\"location\"] = data[\"img-link href\"].apply(lambda x: x.split(\"/\")[3])\n",
    "# split the location column into city, district and neighborhood columns\n",
    "data[\"city\"] = data[\"location\"].str.split(\"-\").str[0]\n",
    "data[\"district\"] = data[\"location\"].str.split(\"-\").str[1]\n",
    "data[\"neighborhood\"] = data[\"location\"].str.split(\"-\").str[2]\n",
    "# data[[\"city\", \"district\", \"neighborhood\"]] = data[\"location\"].str.split(\"-\", expand=True)\n",
    "# drop the location column\n",
    "data.drop(\"location\", axis=1, inplace=True)\n",
    "# see the first 5 rows of the data only with the new columns\n",
    "print(data[[\"city\", \"district\", \"neighborhood\"]].head(100))\n",
    "print(data[data[\"city\"] == \"izmir\"][\"district\"].unique())"
   ]
  },
  {
   "cell_type": "code",
   "execution_count": null,
   "metadata": {},
   "outputs": [],
   "source": []
  }
 ],
 "metadata": {
  "kernelspec": {
   "display_name": "Python 3",
   "language": "python",
   "name": "python3"
  },
  "language_info": {
   "codemirror_mode": {
    "name": "ipython",
    "version": 3
   },
   "file_extension": ".py",
   "mimetype": "text/x-python",
   "name": "python",
   "nbconvert_exporter": "python",
   "pygments_lexer": "ipython3",
   "version": "3.12.3"
  }
 },
 "nbformat": 4,
 "nbformat_minor": 2
}
