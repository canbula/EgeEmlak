{
 "cells": [
  {
   "cell_type": "markdown",
   "metadata": {},
   "source": [
    "# Ege Bölgesi için Makine Öğrenmesi Destekli Emlak Değerleme Analizi"
   ]
  },
  {
   "cell_type": "markdown",
   "metadata": {},
   "source": [
    "## Verilerin Yüklenmesi ve Birleştirilmesi"
   ]
  },
  {
   "cell_type": "markdown",
   "metadata": {},
   "source": [
    "Gerekli Kütüphanelerin Yüklenmesi"
   ]
  },
  {
   "cell_type": "code",
   "execution_count": 1,
   "metadata": {},
   "outputs": [
    {
     "name": "stderr",
     "output_type": "stream",
     "text": [
      "Matplotlib is building the font cache; this may take a moment.\n"
     ]
    }
   ],
   "source": [
    "import os\n",
    "import numpy as np\n",
    "import pandas as pd\n",
    "import matplotlib.pyplot as plt\n",
    "\n",
    "pd.set_option('display.max_columns', None)\n",
    "pd.set_option('display.max_rows', None)\n"
   ]
  },
  {
   "cell_type": "markdown",
   "metadata": {},
   "source": [
    "hepsiemlak.com sitesinden Ege Bölgesi'nde yer alan kiralık ev ilanlarına ait veriler çekilmiştir. Bu veriler hepsiemlak klasörünün içerisindeki .csv dosyalarında bulunmaktadır. Bu dosyaların tamamını okuyarak birleştirme işlemi:"
   ]
  },
  {
   "cell_type": "code",
   "execution_count": 2,
   "metadata": {},
   "outputs": [
    {
     "name": "stdout",
     "output_type": "stream",
     "text": [
      "<class 'pandas.core.frame.DataFrame'>\n",
      "RangeIndex: 8136 entries, 0 to 8135\n",
      "Data columns (total 18 columns):\n",
      " #   Column               Non-Null Count  Dtype  \n",
      "---  ------               --------------  -----  \n",
      " 0   img-link href        8136 non-null   object \n",
      " 1   photo-count          8130 non-null   float64\n",
      " 2   list-view-price      8136 non-null   object \n",
      " 3   list-view-date       8136 non-null   object \n",
      " 4   celly                8136 non-null   object \n",
      " 5   celly 2              8136 non-null   object \n",
      " 6   celly 3              8136 non-null   object \n",
      " 7   celly 4              6858 non-null   object \n",
      " 8   list-view-header     8129 non-null   object \n",
      " 9   list-view-location   8136 non-null   object \n",
      " 10  he-lazy-image src    7649 non-null   object \n",
      " 11  left                 8114 non-null   object \n",
      " 12  img-wrp href         4555 non-null   object \n",
      " 13  he-lazy-image src 2  4067 non-null   object \n",
      " 14  branded__text        134 non-null    object \n",
      " 15  branded__text 2      134 non-null    object \n",
      " 16  img-wrp href 2       133 non-null    object \n",
      " 17  he-lazy-image src 3  116 non-null    object \n",
      "dtypes: float64(1), object(17)\n",
      "memory usage: 1.1+ MB\n",
      "None\n"
     ]
    }
   ],
   "source": [
    "files = os.listdir('hepsiemlak')\n",
    "df = pd.concat([pd.read_csv('hepsiemlak/' + file) for file in files], ignore_index=True)\n",
    "print(df.info())"
   ]
  },
  {
   "cell_type": "markdown",
   "metadata": {},
   "source": [
    "Verilerin bir önizlemesini yaparak sütunlar hakkında bilgi sahibi olunması:"
   ]
  },
  {
   "cell_type": "code",
   "execution_count": 3,
   "metadata": {},
   "outputs": [
    {
     "name": "stdout",
     "output_type": "stream",
     "text": [
      "                                        img-link href  photo-count  \\\n",
      "0   https://www.hepsiemlak.com/usak-banaz-cumhuriy...         10.0   \n",
      "1   https://www.hepsiemlak.com/usak-merkez-kemaloz...         17.0   \n",
      "2   https://www.hepsiemlak.com/usak-merkez-kemaloz...         11.0   \n",
      "3   https://www.hepsiemlak.com/usak-merkez-durak-k...         13.0   \n",
      "4   https://www.hepsiemlak.com/usak-merkez-cumhuri...         50.0   \n",
      "5   https://www.hepsiemlak.com/usak-merkez-cumhuri...         35.0   \n",
      "6   https://www.hepsiemlak.com/usak-merkez-durak-k...         23.0   \n",
      "7   https://www.hepsiemlak.com/usak-merkez-unalan-...         10.0   \n",
      "8   https://www.hepsiemlak.com/usak-merkez-kemaloz...         13.0   \n",
      "9   https://www.hepsiemlak.com/usak-merkez-cumhuri...         30.0   \n",
      "10  https://www.hepsiemlak.com/usak-merkez-fatih-k...         11.0   \n",
      "11  https://www.hepsiemlak.com/usak-merkez-unalan-...         11.0   \n",
      "12  https://www.hepsiemlak.com/usak-merkez-kemaloz...         30.0   \n",
      "13  https://www.hepsiemlak.com/usak-merkez-cumhuri...         19.0   \n",
      "14  https://www.hepsiemlak.com/usak-merkez-cumhuri...         30.0   \n",
      "15  https://www.hepsiemlak.com/usak-merkez-kemaloz...          8.0   \n",
      "16  https://www.hepsiemlak.com/usak-banaz-cumhuriy...         18.0   \n",
      "17  https://www.hepsiemlak.com/usak-merkez-ataturk...         13.0   \n",
      "18  https://www.hepsiemlak.com/usak-merkez-unalan-...          7.0   \n",
      "19  https://www.hepsiemlak.com/usak-merkez-cumhuri...         23.0   \n",
      "20  https://www.hepsiemlak.com/usak-merkez-kurtulu...          5.0   \n",
      "21  https://www.hepsiemlak.com/usak-merkez-cumhuri...          7.0   \n",
      "22  https://www.hepsiemlak.com/afyonkarahisar-merk...         43.0   \n",
      "23  https://www.hepsiemlak.com/afyonkarahisar-merk...         28.0   \n",
      "24  https://www.hepsiemlak.com/afyonkarahisar-merk...         48.0   \n",
      "25  https://www.hepsiemlak.com/afyonkarahisar-merk...         35.0   \n",
      "26  https://www.hepsiemlak.com/afyonkarahisar-merk...         28.0   \n",
      "27  https://www.hepsiemlak.com/afyonkarahisar-merk...         12.0   \n",
      "28  https://www.hepsiemlak.com/afyonkarahisar-merk...         23.0   \n",
      "29  https://www.hepsiemlak.com/afyonkarahisar-merk...         23.0   \n",
      "30  https://www.hepsiemlak.com/afyonkarahisar-merk...         15.0   \n",
      "31  https://www.hepsiemlak.com/afyonkarahisar-merk...         31.0   \n",
      "32  https://www.hepsiemlak.com/afyonkarahisar-merk...         12.0   \n",
      "33  https://www.hepsiemlak.com/afyonkarahisar-merk...         20.0   \n",
      "34  https://www.hepsiemlak.com/afyonkarahisar-merk...         26.0   \n",
      "35  https://www.hepsiemlak.com/afyonkarahisar-merk...         10.0   \n",
      "36  https://www.hepsiemlak.com/afyonkarahisar-merk...         13.0   \n",
      "37  https://www.hepsiemlak.com/afyonkarahisar-merk...         18.0   \n",
      "38  https://www.hepsiemlak.com/afyonkarahisar-merk...         16.0   \n",
      "39  https://www.hepsiemlak.com/afyonkarahisar-cay-...         24.0   \n",
      "40  https://www.hepsiemlak.com/afyonkarahisar-merk...         11.0   \n",
      "41  https://www.hepsiemlak.com/afyonkarahisar-cay-...         27.0   \n",
      "42  https://www.hepsiemlak.com/afyonkarahisar-merk...         17.0   \n",
      "43  https://www.hepsiemlak.com/afyonkarahisar-merk...         20.0   \n",
      "44  https://www.hepsiemlak.com/afyonkarahisar-cay-...         23.0   \n",
      "45  https://www.hepsiemlak.com/afyonkarahisar-merk...         14.0   \n",
      "46  https://www.hepsiemlak.com/afyonkarahisar-merk...         14.0   \n",
      "47  https://www.hepsiemlak.com/afyonkarahisar-dina...          4.0   \n",
      "48  https://www.hepsiemlak.com/afyonkarahisar-merk...         24.0   \n",
      "49  https://www.hepsiemlak.com/afyonkarahisar-merk...         30.0   \n",
      "\n",
      "   list-view-price list-view-date                           celly   celly 2  \\\n",
      "0              7.0     15-04-2024  3 +\\n                        1    150 m²   \n",
      "1              8.5     07-04-2024  2 +\\n                        1    110 m²   \n",
      "2              7.0     29-03-2024  1 +\\n                        1     60 m²   \n",
      "3              7.0     30-03-2024  1 +\\n                        1     50 m²   \n",
      "4             16.5     30-03-2024  4 +\\n                        1    300 m²   \n",
      "5             20.0     30-03-2024  3 +\\n                        1    117 m²   \n",
      "6             22.0     03-03-2024  3 +\\n                        1    150 m²   \n",
      "7              7.0     03-04-2024  2 +\\n                        0     70 m²   \n",
      "8             7.25     14-04-2024  2 +\\n                        1    110 m²   \n",
      "9             15.0     02-04-2024  3 +\\n                        1    140 m²   \n",
      "10            10.0     12-03-2024  3 +\\n                        1    130 m²   \n",
      "11             7.5     07-03-2024  2 +\\n                        1     75 m²   \n",
      "12            15.0     27-01-2024  4 +\\n                        1    140 m²   \n",
      "13            6.75     05-04-2024  3 +\\n                        1    160 m²   \n",
      "14            21.0     30-03-2024  3 +\\n                        1    165 m²   \n",
      "15            14.0     30-03-2024  2 +\\n                        1     75 m²   \n",
      "16            10.0     20-03-2024  3 +\\n                        1    135 m²   \n",
      "17            10.0     03-03-2024  3 +\\n                        1    150 m²   \n",
      "18             7.5     07-03-2024  2 +\\n                        1     85 m²   \n",
      "19            15.0     18-02-2024  3 +\\n                        1    135 m²   \n",
      "20             8.0     21-03-2024  1 +\\n                        1    120 m²   \n",
      "21            15.0     18-02-2024  3 +\\n                        1    135 m²   \n",
      "22           7.500     16-04-2024  2 +\\n                        0     60 m²   \n",
      "23           8.500     16-04-2024  1 +\\n                        1     48 m²   \n",
      "24          15.000     15-04-2024  3 +\\n                        1    130 m²   \n",
      "25           5.000     15-04-2024  1 +\\n                        1     70 m²   \n",
      "26           7.000     15-04-2024  2 +\\n                        1    120 m²   \n",
      "27          15.000     15-04-2024  3 +\\n                        1    130 m²   \n",
      "28           8.000     15-04-2024  3 +\\n                        1    125 m²   \n",
      "29          11.000     15-04-2024  3 +\\n                        1    125 m²   \n",
      "30           9.000     15-04-2024  3 +\\n                        1    120 m²   \n",
      "31           9.000     15-04-2024  3 +\\n                        1    130 m²   \n",
      "32           3.000     15-04-2024  1 +\\n                        1     80 m²   \n",
      "33          10.000     30-03-2024  3 +\\n                        1    135 m²   \n",
      "34           6.500     15-04-2024  2 +\\n                        1     95 m²   \n",
      "35           2.500     15-04-2024  2 +\\n                        1    125 m²   \n",
      "36           8.000     28-03-2024  3 +\\n                        1    150 m²   \n",
      "37           6.000     15-04-2024  2 +\\n                        1     95 m²   \n",
      "38           6.000     15-04-2024  2 +\\n                        1     95 m²   \n",
      "39           5.500     01-04-2024  2 +\\n                        1    100 m²   \n",
      "40           8.500     11-04-2024  2 +\\n                        1    105 m²   \n",
      "41           5.000     25-03-2024  2 +\\n                        1    100 m²   \n",
      "42           8.500     13-03-2024  3 +\\n                        1    120 m²   \n",
      "43           8.000     05-04-2024  3 +\\n                        1    180 m²   \n",
      "44           3.000     11-03-2024  2 +\\n                        1    100 m²   \n",
      "45          10.000     05-03-2024  2 +\\n                        1    105 m²   \n",
      "46           8.750     14-04-2024  2 +\\n                        1    100 m²   \n",
      "47          10.000     12-04-2024                          Stüdyo  3.200 m²   \n",
      "48           8.500     11-04-2024  2 +\\n                        1     95 m²   \n",
      "49           6.500     24-03-2024  2 +\\n                        1    100 m²   \n",
      "\n",
      "                              celly 3       celly 4  \\\n",
      "0   20\\n                      Yaşında         Kot 2   \n",
      "1    8\\n                      Yaşında        1. Kat   \n",
      "2                          Sıfır Bina        4. Kat   \n",
      "3   10\\n                      Yaşında        5. Kat   \n",
      "4   11\\n                      Yaşında        7. Kat   \n",
      "5                          Sıfır Bina        3. Kat   \n",
      "6    5\\n                      Yaşında        5. Kat   \n",
      "7    4\\n                      Yaşında        2. Kat   \n",
      "8    3\\n                      Yaşında        1. Kat   \n",
      "9   15\\n                      Yaşında        5. Kat   \n",
      "10                         Sıfır Bina        2. Kat   \n",
      "11   4\\n                      Yaşında        3. Kat   \n",
      "12  10\\n                      Yaşında         Kot 1   \n",
      "13  20\\n                      Yaşında        3. Kat   \n",
      "14                         Sıfır Bina         Kot 1   \n",
      "15   5\\n                      Yaşında        2. Kat   \n",
      "16                         Sıfır Bina        3. Kat   \n",
      "17  10\\n                      Yaşında  Yüksek Giriş   \n",
      "18                         Sıfır Bina         Kot 1   \n",
      "19   1\\n                      Yaşında        9. Kat   \n",
      "20  24\\n                      Yaşında       Ara Kat   \n",
      "21                         Sıfır Bina        3. Kat   \n",
      "22   5\\n                      Yaşında       Ara Kat   \n",
      "23   2\\n                      Yaşında         Kot 1   \n",
      "24  10\\n                      Yaşında    En Üst Kat   \n",
      "25   5\\n                      Yaşında        3. Kat   \n",
      "26  20\\n                      Yaşında    En Üst Kat   \n",
      "27   1\\n                      Yaşında        2. Kat   \n",
      "28  20\\n                      Yaşında    En Üst Kat   \n",
      "29  17\\n                      Yaşında    En Üst Kat   \n",
      "30  20\\n                      Yaşında        1. Kat   \n",
      "31  15\\n                      Yaşında        1. Kat   \n",
      "32  30\\n                      Yaşında    Bahçe Katı   \n",
      "33  28\\n                      Yaşında        2. Kat   \n",
      "34  17\\n                      Yaşında        4. Kat   \n",
      "35  10\\n                      Yaşında        2. Kat   \n",
      "36  25\\n                      Yaşında        1. Kat   \n",
      "37  17\\n                      Yaşında    Bahçe Katı   \n",
      "38  15\\n                      Yaşında        2. Kat   \n",
      "39  30\\n                      Yaşında    En Üst Kat   \n",
      "40  16\\n                      Yaşında        3. Kat   \n",
      "41  21\\n                      Yaşında        2. Kat   \n",
      "42  18\\n                      Yaşında        2. Kat   \n",
      "43  25\\n                      Yaşında        2. Kat   \n",
      "44  20\\n                      Yaşında   Yarı Bodrum   \n",
      "45  16\\n                      Yaşında    En Üst Kat   \n",
      "46   2\\n                      Yaşında        1. Kat   \n",
      "47   5\\n                      Yaşında           NaN   \n",
      "48  31\\n                      Yaşında        3. Kat   \n",
      "49  21\\n                      Yaşında  Yüksek Giriş   \n",
      "\n",
      "                                     list-view-header  \\\n",
      "0   Banazda Şehir Merkezinde Heryere Ulaşimi Çok Y...   \n",
      "1          Kemalöz Semt Pazarı Yanı Kiralık 2+1 Daire   \n",
      "2   Bakır Gayrimenkul Den Kiralık Atapark Yakını K...   \n",
      "3       Fatih Caddesi Üzerinde Lüks Kiralık 1+1 Apart   \n",
      "4   Uşak,Merkez,Cumhuriyet Mah.Kiralık 4+1 Dubleks...   \n",
      "5   Uşak,Merkez,Atapark,Ertuğrul Park'ta Öncephe K...   \n",
      "6   Kiralık Daire Asansörlü Merkezi Sistem Isıtma ...   \n",
      "7   Gökçay Dan Kiralık Uşak Merkez 2+0 Eşyalı Balk...   \n",
      "8              Kemalöz Mahallesinde 2+1 Kiralık Daire   \n",
      "9      Uşak Merkez Cumhuriyet Mh.De Kiralık 3+1 Daire   \n",
      "10    Fatih Mahallesi Borsa İstanbul Ortaokulu Yakını   \n",
      "11  Ünalan Mahallesi Küçük Çarşıda Eşyalı 2+1  Kir...   \n",
      "12           Uşak Merkez Kemalöz'de Kiralık 4+1 Daire   \n",
      "13                   Uşak Merkez’de 3+1 Kiralık Daire   \n",
      "14                 Batıkent Mevki Kiralık Sıfır Daire   \n",
      "15       Uşak,Merkez,Atapark'ta 2+1 Fuoll Eşyalı 70m2   \n",
      "16            Banaz 31 Agustos Mah. Kiralık 3+1 Daire   \n",
      "17                           Kiralık Eşyalı 3+1 Daire   \n",
      "18      Ünalan Mah.Tapu Müdürlüğü Altında 2+0 Kiralık   \n",
      "19  Cumhuriyet Mh.Site İçerisinde Kiralık Sıfır 3+...   \n",
      "20  Öğrenciye Ve Memura Kiralık Elektrik Su Doğalg...   \n",
      "21      Cumhuriyet Mh. Sıfır 3+1 Arakat Kiralık Daire   \n",
      "22  Selam Emlak Ofisinden 2+0 Harika Konumda Yeni ...   \n",
      "23  Selam Emlak Ofisinden 1+1 Ful Eşyalı Tıp Fakül...   \n",
      "24             Sahibinden Yenice De Kiralık 3+1 Daire   \n",
      "25  Safran Dan Afyon Erenler   Kocatepe Üniversite...   \n",
      "26           Ali İhsan Paşa Mah. Kiralık 2+1 Daire..!   \n",
      "27  Fatih Mahallesinde 130 M2 3+1 Arakat Sıfır Kir...   \n",
      "28           Ali İhsan Paşa Mah. Kiralık 3+1 Daire..!   \n",
      "29  Öztürk Emlak'tan Erkmen Toki 'de 3+1 Afjetli 3...   \n",
      "30  Sılam Emlaktan İstiklal Mahallesinde 3+1 Kıral...   \n",
      "31  Afyon Vizyon Emlaktan Ali İhsan Paşa Mh.Kiralı...   \n",
      "32  Sılam Emlak'tan Kanlıca  Mahallesinde 1+1  Kır...   \n",
      "33     Nokta Emlak'tan Esentepe Mh. 3+1 Kiralık Daire   \n",
      "34  Afyon Vizyon Emlaktan Mareşal Fevzi Çakmak Mah...   \n",
      "35      Sılam Emlak Deprem Evlerden 2+1 Kiralık Daire   \n",
      "36  Sahipata Mahallesinde 3+1 150 M2 1 Kat Kiralık...   \n",
      "37  Afyon Vizyon Emlaktan Uydukent'te Kiralık 2+1 ...   \n",
      "38  Afyon Vizyon Emlaktan Erenler'de Kiralık 2+1 E...   \n",
      "39                 Çarşı Merkezinde Kiralık 2+1 Daire   \n",
      "40             Hayalimden Güney Cephe Manzaralı Daire   \n",
      "41       Kiralık Merkezi Konumda Cadde Üstü 2+1 Daire   \n",
      "42       Nokta Emlak'tan Kanlıca Mh.3+1 Kiralık Daire   \n",
      "43  Selam Emlak Ofisinden 3+1 Park Afyon Avm Ye Ko...   \n",
      "44       Şirinevler Mah. Kiralık 2+1 Doğalgazlı Daire   \n",
      "45  Nokta Emlak'tan Dumlupınar Mah Kiralık 2+1 Afj...   \n",
      "46                                      Kiralık Daire   \n",
      "47  Afyon İlinin Dinar İlçesine 5km Mesafede Kiral...   \n",
      "48   Dost'tan Dervişpaşa'da Afjetli Kiralik 2+1 Daire   \n",
      "49  Dost'tan Eşrefpaşa Mahallesi Kiralık Geniş 2+1...   \n",
      "\n",
      "                         list-view-location  \\\n",
      "0               Banaz, Cumhuriyet Mahallesi   \n",
      "1                 Merkez, Kemalöz Mahallesi   \n",
      "2                 Merkez, Kemalöz Mahallesi   \n",
      "3                   Merkez, Durak Mahallesi   \n",
      "4              Merkez, Cumhuriyet Mahallesi   \n",
      "5              Merkez, Cumhuriyet Mahallesi   \n",
      "6                   Merkez, Durak Mahallesi   \n",
      "7                  Merkez, Ünalan Mahallesi   \n",
      "8                 Merkez, Kemalöz Mahallesi   \n",
      "9              Merkez, Cumhuriyet Mahallesi   \n",
      "10                  Merkez, Fatih Mahallesi   \n",
      "11                 Merkez, Ünalan Mahallesi   \n",
      "12                Merkez, Kemalöz Mahallesi   \n",
      "13             Merkez, Cumhuriyet Mahallesi   \n",
      "14             Merkez, Cumhuriyet Mahallesi   \n",
      "15                Merkez, Kemalöz Mahallesi   \n",
      "16              Banaz, Cumhuriyet Mahallesi   \n",
      "17                Merkez, Atatürk Mahallesi   \n",
      "18                 Merkez, Ünalan Mahallesi   \n",
      "19             Merkez, Cumhuriyet Mahallesi   \n",
      "20               Merkez, Kurtuluş Mahallesi   \n",
      "21             Merkez, Cumhuriyet Mahallesi   \n",
      "22         Merkez, Hasan Karaağaç Mahallesi   \n",
      "23         Merkez, Hasan Karaağaç Mahallesi   \n",
      "24                 Merkez, Yenice Mahallesi   \n",
      "25                Merkez, Erenler Mahallesi   \n",
      "26         Merkez, Ali İhsan Paşa Mahallesi   \n",
      "27                  Merkez, Fatih Mahallesi   \n",
      "28         Merkez, Ali İhsan Paşa Mahallesi   \n",
      "29  Merkez, Erkmen (Fevzi Çakmak) Mahallesi   \n",
      "30               Merkez, İstiklal Mahallesi   \n",
      "31         Merkez, Ali İhsan Paşa Mahallesi   \n",
      "32                Merkez, Kanlıca Mahallesi   \n",
      "33               Merkez, Esentepe Mahallesi   \n",
      "34   Merkez, Mareşal Fevzi Çakmak Mahallesi   \n",
      "35                Merkez, Dörtyol Mahallesi   \n",
      "36               Merkez, Sahipata Mahallesi   \n",
      "37             Merkez, Osman Gazi Mahallesi   \n",
      "38                Merkez, Erenler Mahallesi   \n",
      "39                     Çay, Aşağı Mahallesi   \n",
      "40               Merkez, Esentepe Mahallesi   \n",
      "41                     Çay, Aktaş Mahallesi   \n",
      "42                Merkez, Kanlıca Mahallesi   \n",
      "43             Merkez, Cumhuriyet Mahallesi   \n",
      "44                Çay, Şirinevler Mahallesi   \n",
      "45             Merkez, Dumlupınar Mahallesi   \n",
      "46          Merkez, Veysel Karani Mahallesi   \n",
      "47                 Dinar, Pınarlı Mahallesi   \n",
      "48            Merkez, Derviş Paşa Mahallesi   \n",
      "49              Merkez, Eşrefpaşa Mahallesi   \n",
      "\n",
      "                                    he-lazy-image src                 left  \\\n",
      "0                                                 NaN                  NaN   \n",
      "1                                                 NaN                  NaN   \n",
      "2                                                 NaN                  NaN   \n",
      "3   https://hecdn01.hemlak.com/mncropresize/182/13...                  NaN   \n",
      "4   https://hecdn01.hemlak.com/mncropresize/182/13...                  NaN   \n",
      "5   https://hecdn01.hemlak.com/mncropresize/182/13...                  NaN   \n",
      "6   https://hecdn01.hemlak.com/mncropresize/182/13...                  NaN   \n",
      "7   https://hecdn01.hemlak.com/mncropresize/182/13...                  NaN   \n",
      "8   https://hecdn01.hemlak.com/mncropresize/182/13...                  NaN   \n",
      "9   https://hecdn01.hemlak.com/mncropresize/182/13...                  NaN   \n",
      "10  https://hecdn01.hemlak.com/mncropresize/182/13...                  NaN   \n",
      "11  https://hecdn01.hemlak.com/mncropresize/182/13...                  NaN   \n",
      "12  https://hecdn01.hemlak.com/mncropresize/182/13...                  NaN   \n",
      "13  https://hecdn01.hemlak.com/mncropresize/182/13...                  NaN   \n",
      "14  https://hecdn01.hemlak.com/mncropresize/182/13...                  NaN   \n",
      "15  https://hecdn01.hemlak.com/mncropresize/182/13...                  NaN   \n",
      "16  https://hecdn01.hemlak.com/mncropresize/182/13...                  NaN   \n",
      "17  https://hecdn01.hemlak.com/mncropresize/182/13...                  NaN   \n",
      "18  https://hecdn01.hemlak.com/mncropresize/182/13...                  NaN   \n",
      "19  https://hecdn01.hemlak.com/mncropresize/182/13...                  NaN   \n",
      "20  https://hecdn01.hemlak.com/mncropresize/182/13...                  NaN   \n",
      "21  https://hecdn01.hemlak.com/mncropresize/182/13...                  NaN   \n",
      "22                                                NaN        Kiralık Daire   \n",
      "23                                                NaN        Kiralık Daire   \n",
      "24                                                NaN        Kiralık Daire   \n",
      "25  https://hecdn01.hemlak.com/mncropresize/182/13...        Kiralık Daire   \n",
      "26  https://hecdn01.hemlak.com/mncropresize/182/13...        Kiralık Daire   \n",
      "27  https://hecdn01.hemlak.com/mncropresize/182/13...        Kiralık Daire   \n",
      "28  https://hecdn01.hemlak.com/mncropresize/182/13...        Kiralık Daire   \n",
      "29  https://hecdn01.hemlak.com/mncropresize/182/13...        Kiralık Daire   \n",
      "30  https://hecdn01.hemlak.com/mncropresize/182/13...        Kiralık Daire   \n",
      "31  https://hecdn01.hemlak.com/mncropresize/182/13...        Kiralık Daire   \n",
      "32  https://hecdn01.hemlak.com/mncropresize/182/13...        Kiralık Daire   \n",
      "33  https://hecdn01.hemlak.com/mncropresize/182/13...        Kiralık Daire   \n",
      "34  https://hecdn01.hemlak.com/mncropresize/182/13...        Kiralık Daire   \n",
      "35  https://hecdn01.hemlak.com/mncropresize/182/13...        Kiralık Daire   \n",
      "36  https://hecdn01.hemlak.com/mncropresize/182/13...        Kiralık Daire   \n",
      "37  https://hecdn01.hemlak.com/mncropresize/182/13...        Kiralık Daire   \n",
      "38  https://hecdn01.hemlak.com/mncropresize/182/13...        Kiralık Daire   \n",
      "39  https://hecdn01.hemlak.com/mncropresize/182/13...        Kiralık Daire   \n",
      "40  https://hecdn01.hemlak.com/mncropresize/182/13...        Kiralık Daire   \n",
      "41  https://hecdn01.hemlak.com/mncropresize/182/13...        Kiralık Daire   \n",
      "42  https://hecdn01.hemlak.com/mncropresize/182/13...        Kiralık Daire   \n",
      "43  https://hecdn01.hemlak.com/mncropresize/182/13...        Kiralık Daire   \n",
      "44  https://hecdn01.hemlak.com/mncropresize/182/13...        Kiralık Daire   \n",
      "45  https://hecdn01.hemlak.com/mncropresize/182/13...        Kiralık Daire   \n",
      "46                                                NaN        Kiralık Daire   \n",
      "47                                                NaN  Kiralık Çiftlik Evi   \n",
      "48                                                NaN        Kiralık Daire   \n",
      "49  https://hecdn01.hemlak.com/mncropresize/182/13...        Kiralık Daire   \n",
      "\n",
      "   img-wrp href he-lazy-image src 2 branded__text branded__text 2  \\\n",
      "0           NaN                 NaN           NaN             NaN   \n",
      "1           NaN                 NaN           NaN             NaN   \n",
      "2           NaN                 NaN           NaN             NaN   \n",
      "3           NaN                 NaN           NaN             NaN   \n",
      "4           NaN                 NaN           NaN             NaN   \n",
      "5           NaN                 NaN           NaN             NaN   \n",
      "6           NaN                 NaN           NaN             NaN   \n",
      "7           NaN                 NaN           NaN             NaN   \n",
      "8           NaN                 NaN           NaN             NaN   \n",
      "9           NaN                 NaN           NaN             NaN   \n",
      "10          NaN                 NaN           NaN             NaN   \n",
      "11          NaN                 NaN           NaN             NaN   \n",
      "12          NaN                 NaN           NaN             NaN   \n",
      "13          NaN                 NaN           NaN             NaN   \n",
      "14          NaN                 NaN           NaN             NaN   \n",
      "15          NaN                 NaN           NaN             NaN   \n",
      "16          NaN                 NaN           NaN             NaN   \n",
      "17          NaN                 NaN           NaN             NaN   \n",
      "18          NaN                 NaN           NaN             NaN   \n",
      "19          NaN                 NaN           NaN             NaN   \n",
      "20          NaN                 NaN           NaN             NaN   \n",
      "21          NaN                 NaN           NaN             NaN   \n",
      "22          NaN                 NaN           NaN             NaN   \n",
      "23          NaN                 NaN           NaN             NaN   \n",
      "24          NaN                 NaN           NaN             NaN   \n",
      "25          NaN                 NaN           NaN             NaN   \n",
      "26          NaN                 NaN           NaN             NaN   \n",
      "27          NaN                 NaN           NaN             NaN   \n",
      "28          NaN                 NaN           NaN             NaN   \n",
      "29          NaN                 NaN           NaN             NaN   \n",
      "30          NaN                 NaN           NaN             NaN   \n",
      "31          NaN                 NaN           NaN             NaN   \n",
      "32          NaN                 NaN           NaN             NaN   \n",
      "33          NaN                 NaN           NaN             NaN   \n",
      "34          NaN                 NaN           NaN             NaN   \n",
      "35          NaN                 NaN           NaN             NaN   \n",
      "36          NaN                 NaN           NaN             NaN   \n",
      "37          NaN                 NaN           NaN             NaN   \n",
      "38          NaN                 NaN           NaN             NaN   \n",
      "39          NaN                 NaN           NaN             NaN   \n",
      "40          NaN                 NaN           NaN             NaN   \n",
      "41          NaN                 NaN           NaN             NaN   \n",
      "42          NaN                 NaN           NaN             NaN   \n",
      "43          NaN                 NaN           NaN             NaN   \n",
      "44          NaN                 NaN           NaN             NaN   \n",
      "45          NaN                 NaN           NaN             NaN   \n",
      "46          NaN                 NaN           NaN             NaN   \n",
      "47          NaN                 NaN           NaN             NaN   \n",
      "48          NaN                 NaN           NaN             NaN   \n",
      "49          NaN                 NaN           NaN             NaN   \n",
      "\n",
      "   img-wrp href 2 he-lazy-image src 3  \n",
      "0             NaN                 NaN  \n",
      "1             NaN                 NaN  \n",
      "2             NaN                 NaN  \n",
      "3             NaN                 NaN  \n",
      "4             NaN                 NaN  \n",
      "5             NaN                 NaN  \n",
      "6             NaN                 NaN  \n",
      "7             NaN                 NaN  \n",
      "8             NaN                 NaN  \n",
      "9             NaN                 NaN  \n",
      "10            NaN                 NaN  \n",
      "11            NaN                 NaN  \n",
      "12            NaN                 NaN  \n",
      "13            NaN                 NaN  \n",
      "14            NaN                 NaN  \n",
      "15            NaN                 NaN  \n",
      "16            NaN                 NaN  \n",
      "17            NaN                 NaN  \n",
      "18            NaN                 NaN  \n",
      "19            NaN                 NaN  \n",
      "20            NaN                 NaN  \n",
      "21            NaN                 NaN  \n",
      "22            NaN                 NaN  \n",
      "23            NaN                 NaN  \n",
      "24            NaN                 NaN  \n",
      "25            NaN                 NaN  \n",
      "26            NaN                 NaN  \n",
      "27            NaN                 NaN  \n",
      "28            NaN                 NaN  \n",
      "29            NaN                 NaN  \n",
      "30            NaN                 NaN  \n",
      "31            NaN                 NaN  \n",
      "32            NaN                 NaN  \n",
      "33            NaN                 NaN  \n",
      "34            NaN                 NaN  \n",
      "35            NaN                 NaN  \n",
      "36            NaN                 NaN  \n",
      "37            NaN                 NaN  \n",
      "38            NaN                 NaN  \n",
      "39            NaN                 NaN  \n",
      "40            NaN                 NaN  \n",
      "41            NaN                 NaN  \n",
      "42            NaN                 NaN  \n",
      "43            NaN                 NaN  \n",
      "44            NaN                 NaN  \n",
      "45            NaN                 NaN  \n",
      "46            NaN                 NaN  \n",
      "47            NaN                 NaN  \n",
      "48            NaN                 NaN  \n",
      "49            NaN                 NaN  \n"
     ]
    }
   ],
   "source": [
    "print(df.head(50))"
   ]
  },
  {
   "cell_type": "markdown",
   "metadata": {},
   "source": [
    "Kullanılmayacak olan sütunların çıkarılması:"
   ]
  },
  {
   "cell_type": "code",
   "execution_count": 4,
   "metadata": {},
   "outputs": [
    {
     "name": "stdout",
     "output_type": "stream",
     "text": [
      "<class 'pandas.core.frame.DataFrame'>\n",
      "RangeIndex: 8136 entries, 0 to 8135\n",
      "Data columns (total 8 columns):\n",
      " #   Column              Non-Null Count  Dtype \n",
      "---  ------              --------------  ----- \n",
      " 0   img-link href       8136 non-null   object\n",
      " 1   list-view-price     8136 non-null   object\n",
      " 2   celly               8136 non-null   object\n",
      " 3   celly 2             8136 non-null   object\n",
      " 4   celly 3             8136 non-null   object\n",
      " 5   celly 4             6858 non-null   object\n",
      " 6   list-view-header    8129 non-null   object\n",
      " 7   list-view-location  8136 non-null   object\n",
      "dtypes: object(8)\n",
      "memory usage: 508.6+ KB\n",
      "None\n"
     ]
    }
   ],
   "source": [
    "df.drop(['photo-count', 'list-view-date', 'he-lazy-image src', 'left', 'img-wrp href', 'he-lazy-image src 2', 'branded__text', 'branded__text 2', 'img-wrp href 2', 'he-lazy-image src 3'], axis=1, inplace=True)\n",
    "print(df.info())"
   ]
  },
  {
   "cell_type": "markdown",
   "metadata": {},
   "source": [
    "İl, ilçe ve mahalle değerlerinin `img-link href` sütunundan ayrıştırılması"
   ]
  },
  {
   "cell_type": "code",
   "execution_count": 5,
   "metadata": {},
   "outputs": [],
   "source": [
    "df['location'] = df['img-link href'].apply(lambda x: x.split('/')[3])\n",
    "df['city'] = df['location'].str.split('-').str[0]\n",
    "df['district'] = df['location'].str.split('-').str[1]\n",
    "df['neighborhood'] = df['location'].str.split('-').str[2:-1]\n",
    "df['neighborhood'] = df['neighborhood'].apply(lambda x: ' '.join(x))\n",
    "df.drop(['location', 'img-link href'], axis=1, inplace=True)"
   ]
  },
  {
   "cell_type": "code",
   "execution_count": 6,
   "metadata": {},
   "outputs": [
    {
     "name": "stdout",
     "output_type": "stream",
     "text": [
      "                city      district  neighborhood\n",
      "174            izmir          buca      murathan\n",
      "5686           mugla       dalaman      altintas\n",
      "5345           izmir         konak      alsancak\n",
      "1636           izmir          buca       adatepe\n",
      "7254           mugla        bodrum      kumbahce\n",
      "5429           izmir         cesme       alacati\n",
      "7100           mugla        bodrum     yalikavak\n",
      "6386           mugla      koycegiz    dogusbelen\n",
      "2709           izmir          buca         inonu\n",
      "5975           mugla       mentese       kotekli\n",
      "1805           izmir      menderes     cuneytbey\n",
      "397            izmir        odemis    cumhuriyet\n",
      "7253           mugla        bodrum    turgutreis\n",
      "4776           izmir         cigli      atasehir\n",
      "3818         denizli  merkezefendi       gultepe\n",
      "3496           aydin      kusadasi    guzelcamli\n",
      "800            izmir         konak      alsancak\n",
      "6869          manisa       akhisar         inonu\n",
      "2207           izmir       bornova    kazimdirik\n",
      "4668           izmir        dikili       kabakum\n",
      "5018           izmir    karabaglar       poligon\n",
      "4580         denizli     pamukkale     zeytinkoy\n",
      "366            izmir          tire      hurriyet\n",
      "6466           mugla        bodrum      akyarlar\n",
      "3200           aydin      kusadasi      davutlar\n",
      "7040           mugla        bodrum      gundogan\n",
      "6720         kutahya        merkez        meydan\n",
      "4007         denizli  merkezefendi       kayalar\n",
      "5112           izmir     karsiyaka      bostanli\n",
      "286            izmir         kinik     turkcedit\n",
      "3658           aydin        efeler          orta\n",
      "1935           izmir     karsiyaka      bostanli\n",
      "2162           izmir     karsiyaka         inonu\n",
      "36    afyonkarahisar        merkez      sahipata\n",
      "1845           izmir         konak       gunesli\n",
      "428            izmir    karabaglar  bahcelievler\n",
      "8001           mugla        bodrum     yokusbasi\n",
      "4400         denizli     pamukkale       bagbasi\n",
      "5671           mugla        bodrum         geris\n",
      "1573           izmir         cesme       alacati\n",
      "815            izmir       bornova        evka 3\n",
      "1446           izmir    karabaglar       doganay\n",
      "6359           mugla       fethiye          yeni\n",
      "2447           izmir      bayrakli      yamanlar\n",
      "7546           mugla       fethiye          foca\n",
      "6495           mugla      koycegiz      toparlar\n",
      "1362           izmir         cesme       musalla\n",
      "3761           aydin         didim    mersindere\n",
      "2933           izmir       menemen      bagcilar\n",
      "6388           mugla       mentese       kotekli\n"
     ]
    }
   ],
   "source": [
    "print(df[['city', 'district', 'neighborhood']].sample(50))"
   ]
  },
  {
   "cell_type": "markdown",
   "metadata": {},
   "source": [
    "Ayrıştırılan il ve ilçelerin histogram olarak görselleştirilmesi"
   ]
  },
  {
   "cell_type": "code",
   "execution_count": 7,
   "metadata": {},
   "outputs": [
    {
     "data": {
      "image/png": "[encoded data removed]",
      "text/plain": [
       "<Figure size 640x480 with 1 Axes>"
      ]
     },
     "metadata": {},
     "output_type": "display_data"
    },
    {
     "data": {
      "image/png": "[encoded data removed]",
      "text/plain": [
       "<Figure size 640x480 with 1 Axes>"
      ]
     },
     "metadata": {},
     "output_type": "display_data"
    },
    {
     "data": {
      "image/png": "[encoded data removed]",
      "text/plain": [
       "<Figure size 640x480 with 1 Axes>"
      ]
     },
     "metadata": {},
     "output_type": "display_data"
    },
    {
     "data": {
      "image/png": "[encoded data removed]",
      "text/plain": [
       "<Figure size 640x480 with 1 Axes>"
      ]
     },
     "metadata": {},
     "output_type": "display_data"
    },
    {
     "data": {
      "image/png": "[encoded data removed]",
      "text/plain": [
       "<Figure size 640x480 with 1 Axes>"
      ]
     },
     "metadata": {},
     "output_type": "display_data"
    },
    {
     "data": {
      "image/png": "[encoded data removed]",
      "text/plain": [
       "<Figure size 640x480 with 1 Axes>"
      ]
     },
     "metadata": {},
     "output_type": "display_data"
    },
    {
     "data": {
      "image/png": "[encoded data removed]",
      "text/plain": [
       "<Figure size 640x480 with 1 Axes>"
      ]
     },
     "metadata": {},
     "output_type": "display_data"
    },
    {
     "data": {
      "image/png": "[encoded data removed]",
      "text/plain": [
       "<Figure size 640x480 with 1 Axes>"
      ]
     },
     "metadata": {},
     "output_type": "display_data"
    }
   ],
   "source": [
    "for city in df['city'].unique():\n",
    "    df[df['city'] == city]['district'].value_counts().plot(kind='bar', title=city)\n",
    "    plt.show()"
   ]
  },
  {
   "cell_type": "markdown",
   "metadata": {},
   "source": [
    "Geriye kalan sütunların görüntülenmesi"
   ]
  },
  {
   "cell_type": "code",
   "execution_count": 8,
   "metadata": {},
   "outputs": [
    {
     "name": "stdout",
     "output_type": "stream",
     "text": [
      "Index(['list-view-price', 'celly', 'celly 2', 'celly 3', 'celly 4',\n",
      "       'list-view-header', 'list-view-location', 'city', 'district',\n",
      "       'neighborhood'],\n",
      "      dtype='object')\n"
     ]
    }
   ],
   "source": [
    "print(df.columns)"
   ]
  },
  {
   "cell_type": "markdown",
   "metadata": {},
   "source": [
    "Oda ve salon sayılarının `celly` sütunundan ayrıştırılması"
   ]
  },
  {
   "cell_type": "code",
   "execution_count": 9,
   "metadata": {},
   "outputs": [
    {
     "name": "stdout",
     "output_type": "stream",
     "text": [
      "['3 +\\n                        1' '2 +\\n                        1'\n",
      " '1 +\\n                        1' '4 +\\n                        1'\n",
      " '2 +\\n                        0' 'Stüdyo'\n",
      " '3 +\\n                        0' '1 +\\n                        15'\n",
      " '2 +\\n                        2' '6 +\\n                        2'\n",
      " '4 +\\n                        2' '3 +\\n                        2'\n",
      " '9 +\\n                        1' '6 +\\n                        1'\n",
      " '8 +\\n                        1' '5 +\\n                        1'\n",
      " '41 +\\n                        4' '4 +\\n                        0'\n",
      " '5 +\\n                        2' '1 +\\n                        25'\n",
      " '7 +\\n                        1' '21 +\\n                        1'\n",
      " '7 +\\n                        2' '6 +\\n                        0'\n",
      " '9 +\\n                        4' '4 +\\n                        4'\n",
      " '3 +\\n                        3' '31 +\\n                        1'\n",
      " '9 +\\n                        3' '25 +\\n                        5'\n",
      " '8 +\\n                        0' '9 +\\n                        9'\n",
      " '14 +\\n                        6' '10 +\\n                        1'\n",
      " '1 +\\n                        2' '3 +\\n                        4'\n",
      " '4 +\\n                        3' '9 +\\n                        5'\n",
      " '8 +\\n                        4' '4 +\\n                        5']\n"
     ]
    }
   ],
   "source": [
    "print(df['celly'].unique())"
   ]
  },
  {
   "cell_type": "code",
   "execution_count": 10,
   "metadata": {},
   "outputs": [
    {
     "name": "stdout",
     "output_type": "stream",
     "text": [
      "[ 3  2  1  4  6  9  8  5 41  7 21 31 25 14 10]\n",
      "[ 1  0 15  2  4 25  3  5  9  6]\n",
      "room\n",
      "3     2825\n",
      "2     2821\n",
      "1     1680\n",
      "4      582\n",
      "5      154\n",
      "6       41\n",
      "7       12\n",
      "9        9\n",
      "8        3\n",
      "21       3\n",
      "31       2\n",
      "41       1\n",
      "25       1\n",
      "14       1\n",
      "10       1\n",
      "Name: count, dtype: int64\n",
      "living_room\n",
      "1     7815\n",
      "2      155\n",
      "0      148\n",
      "4        7\n",
      "3        4\n",
      "5        3\n",
      "15       1\n",
      "25       1\n",
      "9        1\n",
      "6        1\n",
      "Name: count, dtype: int64\n"
     ]
    }
   ],
   "source": [
    "df[\"celly\"] = df[\"celly\"].apply(lambda x: x.replace('Stüdyo', '1 + 0'))\n",
    "df[\"celly\"] = df[\"celly\"].apply(lambda x: x.replace('\\n', ''))\n",
    "df[\"room\"] = df[\"celly\"].apply(lambda x: x.split('+')[0]).astype(int)\n",
    "df[\"living_room\"] = df[\"celly\"].apply(lambda x: x.split('+')[1]).astype(int)\n",
    "\n",
    "print(df[\"room\"].unique())\n",
    "print(df[\"living_room\"].unique())\n",
    "\n",
    "print(df[\"room\"].value_counts())\n",
    "print(df[\"living_room\"].value_counts())"
   ]
  },
  {
   "cell_type": "markdown",
   "metadata": {},
   "source": [
    "`celly` sütunun çıkarılması ve ayrıştırılan oda ve salon sayılarındaki çok uç değerlerin temizlenmesi"
   ]
  },
  {
   "cell_type": "code",
   "execution_count": 11,
   "metadata": {},
   "outputs": [
    {
     "name": "stdout",
     "output_type": "stream",
     "text": [
      "[3 2 1 4 6 5 7]\n",
      "[1 0 2]\n"
     ]
    }
   ],
   "source": [
    "df.drop(['celly'], axis=1, inplace=True)\n",
    "\n",
    "df = df[(df['room'] <= 7) & (df['living_room'] <= 2)]\n",
    "\n",
    "print(df['room'].unique())\n",
    "print(df['living_room'].unique())"
   ]
  },
  {
   "cell_type": "markdown",
   "metadata": {},
   "source": [
    "Metrekare değerlerinin `celly 2` sütunundan ayrıştırılması"
   ]
  },
  {
   "cell_type": "code",
   "execution_count": 12,
   "metadata": {},
   "outputs": [
    {
     "name": "stdout",
     "output_type": "stream",
     "text": [
      "['150 m²' '110 m²' '60 m²' '50 m²' '300 m²' '117 m²' '70 m²' '140 m²'\n",
      " '130 m²' '75 m²' '160 m²' '165 m²' '135 m²' '85 m²' '120 m²' '48 m²'\n",
      " '125 m²' '80 m²' '95 m²' '100 m²' '105 m²' '180 m²' '3.200 m²' '90 m²'\n",
      " '76 m²' '55 m²' '65 m²' '145 m²' '45 m²' '115 m²' '35 m²' '53 m²'\n",
      " '155 m²' '148 m²' '78 m²' '151 m²' '270 m²' '440 m²' '132 m²' '121 m²'\n",
      " '141 m²' '170 m²' '122 m²' '200 m²' '87 m²' '146 m²' '220 m²' '108 m²'\n",
      " '370 m²' '86 m²' '380 m²' '47 m²' '43 m²' '63 m²' '245 m²' '204 m²'\n",
      " '183 m²' '190 m²' '600 m²' '119 m²' '72 m²' '350 m²' '142 m²' '166 m²'\n",
      " '870 m²' '330 m²' '96 m²' '41 m²' '143 m²' '280 m²' '64 m²' '57 m²'\n",
      " '286 m²' '340 m²' '81 m²' '185 m²' '40 m²' '168 m²' '116 m²' '93 m²'\n",
      " '209 m²' '59 m²' '77 m²' '400 m²' '98 m²' '106 m²' '174 m²' '205 m²'\n",
      " '74 m²' '500 m²' '68 m²' '275 m²' '52 m²' '137 m²' '167 m²' '217 m²'\n",
      " '25 m²' '250 m²' '290 m²' '112 m²' '196 m²' '184 m²' '450 m²' '159 m²'\n",
      " '195 m²' '640 m²' '230 m²' '260 m²' '285 m²' '235 m²' '337 m²' '211 m²'\n",
      " '240 m²' '134 m²' '832 m²' '1.000 m²' '38 m²' '147 m²' '152 m²' '88 m²'\n",
      " '213 m²' '126 m²' '255 m²' '199 m²' '127 m²' '11 m²' '154 m²' '22 m²'\n",
      " '66 m²' '399 m²' '187 m²' '67 m²' '210 m²' '89 m²' '355 m²' '97 m²'\n",
      " '84 m²' '42 m²' '51 m²' '73 m²' '325 m²' '71 m²' '3.000 m²' '175 m²'\n",
      " '320 m²' '156 m²' '162 m²' '18 m²' '56 m²' '136 m²' '131 m²' '580 m²'\n",
      " '375 m²' '161 m²' '163 m²' '149 m²' '206 m²' '138 m²' '475 m²' '359 m²'\n",
      " '124 m²' '91 m²' '194 m²' '4.500 m²' '20 m²' '103 m²' '58 m²' '302 m²'\n",
      " '505 m²' '800 m²' '368 m²' '178 m²' '750 m²' '92 m²' '181 m²' '30 m²'\n",
      " '460 m²' '390 m²' '360 m²' '550 m²' '4.000 m²' '295 m²' '128 m²' '341 m²'\n",
      " '745 m²' '118 m²' '144 m²' '15 m²' '82 m²' '49 m²' '176 m²' '182 m²'\n",
      " '981 m²' '256 m²' '62 m²' '32 m²' '3.510 m²' '215 m²' '1.057 m²' '171 m²'\n",
      " '173 m²' '79 m²' '169 m²' '28 m²' '520 m²' '104 m²' '535 m²' '5.500 m²'\n",
      " '114 m²' '208 m²' '94 m²' '46 m²' '900 m²' '225 m²' '402 m²' '111 m²'\n",
      " '193 m²' '1.100 m²' '212 m²' '102 m²' '177 m²' '249 m²' '109 m²' '420 m²'\n",
      " '545 m²' '192 m²' '1.250 m²' '113 m²' '490 m²' '760 m²' '157 m²' '54 m²'\n",
      " '405 m²' '36 m²' '510 m²' '99 m²' '172 m²' '9.000 m²' '21 m²' '101 m²'\n",
      " '164 m²' '158 m²' '201 m²' '310 m²' '1.150 m²' '2.000 m²' '228 m²'\n",
      " '700 m²' '349 m²' '203 m²' '31 m²' '33 m²' '950 m²' '650 m²' '252 m²'\n",
      " '493 m²' '265 m²' '5 m²' '317 m²' '850 m²']\n"
     ]
    }
   ],
   "source": [
    "print(df['celly 2'].unique())"
   ]
  },
  {
   "cell_type": "code",
   "execution_count": 13,
   "metadata": {},
   "outputs": [
    {
     "name": "stdout",
     "output_type": "stream",
     "text": [
      "[ 150  110   60   50  300  117   70  140  130   75  160  165  135   85\n",
      "  120   48  125   80   95  100  105  180 3200   90   76   55   65  145\n",
      "   45  115   35   53  155  148   78  151  270  440  132  121  141  170\n",
      "  122  200   87  146  220  108  370   86  380   47   43   63  245  204\n",
      "  183  190  600  119   72  350  142  166  870  330   96   41  143  280\n",
      "   64   57  286  340   81  185   40  168  116   93  209   59   77  400\n",
      "   98  106  174  205   74  500   68  275   52  137  167  217   25  250\n",
      "  290  112  196  184  450  159  195  640  230  260  285  235  337  211\n",
      "  240  134  832 1000   38  147  152   88  213  126  255  199  127   11\n",
      "  154   22   66  399  187   67  210   89  355   97   84   42   51   73\n",
      "  325   71 3000  175  320  156  162   18   56  136  131  580  375  161\n",
      "  163  149  206  138  475  359  124   91  194 4500   20  103   58  302\n",
      "  505  800  368  178  750   92  181   30  460  390  360  550 4000  295\n",
      "  128  341  745  118  144   15   82   49  176  182  981  256   62   32\n",
      " 3510  215 1057  171  173   79  169   28  520  104  535 5500  114  208\n",
      "   94   46  900  225  402  111  193 1100  212  102  177  249  109  420\n",
      "  545  192 1250  113  490  760  157   54  405   36  510   99  172 9000\n",
      "   21  101  164  158  201  310 1150 2000  228  700  349  203   31   33\n",
      "  950  650  252  493  265    5  317  850]\n"
     ]
    },
    {
     "data": {
      "image/png": "[encoded data removed]",
      "text/plain": [
       "<Figure size 640x480 with 1 Axes>"
      ]
     },
     "metadata": {},
     "output_type": "display_data"
    }
   ],
   "source": [
    "df['celly 2'] = df['celly 2'].apply(lambda x: x.replace('.', ''))\n",
    "df['area'] = df['celly 2'].apply(lambda x: x.split(' ')[0]).astype(int)\n",
    "\n",
    "print(df['area'].unique())\n",
    "df['area'].plot(kind='hist', bins=50, range=(0, 500))\n",
    "\n",
    "df.drop(['celly 2'], axis=1, inplace=True)"
   ]
  },
  {
   "cell_type": "markdown",
   "metadata": {},
   "source": [
    "Bina yaşlarının `celly 3` sütunundan ayrıştırılması"
   ]
  },
  {
   "cell_type": "code",
   "execution_count": 14,
   "metadata": {},
   "outputs": [
    {
     "name": "stdout",
     "output_type": "stream",
     "text": [
      "['20\\n                      Yaşında' '8\\n                      Yaşında'\n",
      " 'Sıfır Bina' '10\\n                      Yaşında'\n",
      " '11\\n                      Yaşında' '5\\n                      Yaşında'\n",
      " '4\\n                      Yaşında' '3\\n                      Yaşında'\n",
      " '15\\n                      Yaşında' '1\\n                      Yaşında'\n",
      " '24\\n                      Yaşında' '2\\n                      Yaşında'\n",
      " '17\\n                      Yaşında' '30\\n                      Yaşında'\n",
      " '28\\n                      Yaşında' '25\\n                      Yaşında'\n",
      " '16\\n                      Yaşında' '21\\n                      Yaşında'\n",
      " '18\\n                      Yaşında' '31\\n                      Yaşında'\n",
      " '22\\n                      Yaşında' '7\\n                      Yaşında'\n",
      " '13\\n                      Yaşında' '9\\n                      Yaşında'\n",
      " '6\\n                      Yaşında' '35\\n                      Yaşında'\n",
      " '39\\n                      Yaşında' '14\\n                      Yaşında'\n",
      " '19\\n                      Yaşında' '33\\n                      Yaşında'\n",
      " '26\\n                      Yaşında' '12\\n                      Yaşında'\n",
      " '29\\n                      Yaşında' '49\\n                      Yaşında'\n",
      " '27\\n                      Yaşında' '32\\n                      Yaşında'\n",
      " '52\\n                      Yaşında' '40\\n                      Yaşında'\n",
      " '38\\n                      Yaşında' '44\\n                      Yaşında'\n",
      " '34\\n                      Yaşında' '23\\n                      Yaşında'\n",
      " '45\\n                      Yaşında' '50\\n                      Yaşında'\n",
      " '42\\n                      Yaşında' '55\\n                      Yaşında'\n",
      " '36\\n                      Yaşında' '43\\n                      Yaşında'\n",
      " '37\\n                      Yaşında' '47\\n                      Yaşında'\n",
      " '300\\n                      Yaşında' '48\\n                      Yaşında'\n",
      " '199\\n                      Yaşında' '100\\n                      Yaşında'\n",
      " '60\\n                      Yaşında' '61\\n                      Yaşında'\n",
      " '600\\n                      Yaşında']\n"
     ]
    }
   ],
   "source": [
    "print(df['celly 3'].unique())"
   ]
  },
  {
   "cell_type": "code",
   "execution_count": 15,
   "metadata": {},
   "outputs": [
    {
     "name": "stdout",
     "output_type": "stream",
     "text": [
      "[ 20   8   0  10  11   5   4   3  15   1  24   2  17  30  28  25  16  21\n",
      "  18  31  22   7  13   9   6  35  39  14  19  33  26  12  29  49  27  32\n",
      "  52  40  38  44  34  23  45  50  42  55  36  43  37  47 300  48 199 100\n",
      "  60  61 600]\n",
      "age\n",
      "5      910\n",
      "0      843\n",
      "15     567\n",
      "10     543\n",
      "25     464\n",
      "20     442\n",
      "4      412\n",
      "30     372\n",
      "1      336\n",
      "11     331\n",
      "3      303\n",
      "2      298\n",
      "16     245\n",
      "8      210\n",
      "7      208\n",
      "21     184\n",
      "6      176\n",
      "26     156\n",
      "12     150\n",
      "35     139\n",
      "31     126\n",
      "18      76\n",
      "9       72\n",
      "40      72\n",
      "13      65\n",
      "28      62\n",
      "17      60\n",
      "14      40\n",
      "22      33\n",
      "23      28\n",
      "27      25\n",
      "29      21\n",
      "24      18\n",
      "19      17\n",
      "45      15\n",
      "32      15\n",
      "50      11\n",
      "38      10\n",
      "33       9\n",
      "37       6\n",
      "34       6\n",
      "36       5\n",
      "55       3\n",
      "44       3\n",
      "39       3\n",
      "42       3\n",
      "49       2\n",
      "43       1\n",
      "52       1\n",
      "47       1\n",
      "300      1\n",
      "48       1\n",
      "199      1\n",
      "100      1\n",
      "60       1\n",
      "61       1\n",
      "600      1\n",
      "Name: count, dtype: int64\n"
     ]
    }
   ],
   "source": [
    "df['celly 3'] = df['celly 3'].apply(lambda x: x.replace('Sıfır Bina', '0'))\n",
    "df['celly 3'] = df['celly 3'].apply(lambda x: x.replace('\\n', ' '))\n",
    "df['age'] = df['celly 3'].apply(lambda x: x.split(' ')[0]).astype(int)\n",
    "\n",
    "print(df['age'].unique())\n",
    "print(df['age'].value_counts())\n",
    "\n",
    "df.drop(\"celly 3\", axis=1, inplace=True)"
   ]
  },
  {
   "cell_type": "markdown",
   "metadata": {},
   "source": [
    "Kat sayılarının `celly 4` sütunundan ayrıştırılması"
   ]
  },
  {
   "cell_type": "code",
   "execution_count": 16,
   "metadata": {},
   "outputs": [
    {
     "name": "stdout",
     "output_type": "stream",
     "text": [
      "['Kot 2' '1. Kat' '4. Kat' '5. Kat' '7. Kat' '3. Kat' '2. Kat' 'Kot 1'\n",
      " 'Yüksek Giriş' '9. Kat' 'Ara Kat' 'En Üst Kat' 'Bahçe Katı' 'Yarı Bodrum'\n",
      " nan 'Bodrum' 'Kot 3' 'Çatı Katı' 'Zemin' '8. Kat' 'Giriş Katı' '6. Kat'\n",
      " '16. Kat' '17. Kat' 'Villa Katı' '10. Kat' '13. Kat' '12. Kat' '11. Kat'\n",
      " '14. Kat' '21 ve üzeri' 'Bodrum ve Zemin' 'Asma Kat' '18. Kat' 'Tripleks'\n",
      " 'Teras Katı' '15. Kat' '20. Kat' '19. Kat']\n"
     ]
    }
   ],
   "source": [
    "print(df['celly 4'].unique())"
   ]
  },
  {
   "cell_type": "code",
   "execution_count": 18,
   "metadata": {},
   "outputs": [
    {
     "name": "stdout",
     "output_type": "stream",
     "text": [
      "['-2. Kat' '1. Kat' '4. Kat' '5. Kat' '7. Kat' '3. Kat' '2. Kat' '-1. Kat'\n",
      " '9. Kat' '0. Kat' '-3. Kat' '8. Kat' '6. Kat' '16. Kat' '17. Kat'\n",
      " '10. Kat' '13. Kat' '12. Kat' '11. Kat' '14. Kat' '21. Kat' '18. Kat'\n",
      " '15. Kat' '20. Kat' '19. Kat']\n",
      "[-2  1  4  5  7  3  2 -1  9  0 -3  8  6 16 17 10 13 12 11 14 21 18 15 20\n",
      " 19]\n",
      "floor\n",
      " 2     2569\n",
      " 1     1568\n",
      " 3     1453\n",
      " 5      888\n",
      " 0      795\n",
      " 4      418\n",
      " 6      102\n",
      " 7       80\n",
      " 8       43\n",
      "-2       39\n",
      "-1       39\n",
      " 11      18\n",
      "-3       16\n",
      " 9       14\n",
      " 10      12\n",
      " 13      11\n",
      " 21       9\n",
      " 12       8\n",
      " 14       8\n",
      " 18       4\n",
      " 16       3\n",
      " 15       3\n",
      " 17       2\n",
      " 20       2\n",
      " 19       1\n",
      "Name: count, dtype: int64\n"
     ]
    }
   ],
   "source": [
    "replace_dict = {\n",
    "    'Kot 3': '-3. Kat',\n",
    "    'Kot 2': '-2. Kat',\n",
    "    'Ara Kat': '2. Kat'\n",
    "}\n",
    "\n",
    "def replace_func(df, col, replace_dict_):\n",
    "    df[col] = df[col].replace(replace_dict_.keys(), replace_dict_.values())\n",
    "\n",
    "\n",
    "search_for = ['nan', 'Kot 3', 'Kot 2', 'Kot 1', 'Yüksek Giriş', 'Ara Kat', 'En Üst Kat', 'Bahçe Katı', 'Yarı Bodrum', 'Bodrum', 'Çatı Katı', 'Zemin', 'Giriş Katı', 'Villa Katı', '21 ve üzeri', 'Bodrum ve Zemin', 'Asma Kat', 'Tripleks', 'Teras Katı']\n",
    "replace_with = ['2. Kat', '-3. Kat', '-2. Kat', '-1. Kat', '1. Kat', '3. Kat', '5. Kat', '0. Kat', '0. Kat', '0. Kat', '5. Kat', '5. Kat', '1. Kat', '1. Kat', '21. Kat', '0. Kat', '1. Kat', '3. Kat', '5. Kat']\n",
    "df['celly 4'] = df['celly 4'].replace(search_for, replace_with).astype(str)\n",
    "df['celly 4'].dropna(inplace=True)\n",
    "\n",
    "print(df['celly 4'].unique())\n",
    "df['floor'] = df['celly 4'].apply(lambda x: x.split('.')[0]).astype(int)\n",
    "\n",
    "print(df['floor'].unique())\n",
    "print(df['floor'].value_counts())"
   ]
  },
  {
   "cell_type": "code",
   "execution_count": 19,
   "metadata": {},
   "outputs": [],
   "source": [
    "df.drop('celly 4', axis=1, inplace=True)"
   ]
  },
  {
   "cell_type": "markdown",
   "metadata": {},
   "source": [
    "Fiyat değerlerinin `list-view-price` sütunundan ayrıştırılması"
   ]
  },
  {
   "cell_type": "code",
   "execution_count": 20,
   "metadata": {},
   "outputs": [
    {
     "name": "stdout",
     "output_type": "stream",
     "text": [
      "[7.0 8.5 16.5 20.0 22.0 7.25 15.0 10.0 7.5 6.75 21.0 14.0 8.0 '7.500'\n",
      " '8.500' '15.000' '5.000' '7.000' '8.000' '11.000' '9.000' '3.000'\n",
      " '10.000' '6.500' '2.500' '6.000' '5.500' '8.750' '4.250' '4.500' '12.500'\n",
      " '5.250' '12.000' '7.250' '6.750' '7.750' '3.500' '6.600' '5.100' '13.000'\n",
      " '5.600' '1.100.000' '9.500' '4.000' '13.250' '19.000' '29.000' '30.000'\n",
      " '25.000' '18.500' '83.000' '14.000' '380.000' '20.000' '210.000'\n",
      " '280.000' '325.000' '16.000' '9.250' '37.500' '600.000' '350' '15.500'\n",
      " '500.000' '200.000' '20.500' '13.500' '11.500' '17.000' '800.000'\n",
      " '10.500' '22.000' '18.000' '50.000' '65.000' '550.000' '45.000' '33.000'\n",
      " '100.000' '21.500' '28.500' '26.000' '22.500' '220.000' '400.000'\n",
      " '39.000' '27.500' '16.500' '29.500' '15.750' '40.000' '21.750' '35.000'\n",
      " '25.500' '21.000' '235.000' '34.000' '96.000' '55.000' '425.000' '24.000'\n",
      " '23.000' '19.750' '70.000' '52.500' '32.000' '450.000' '275.000' '19.360'\n",
      " '17.500' '19.500' '370.000' '350.000' '9.800' '680.000' '15.590.000'\n",
      " '34.500' '250.000' '60.000' '300.000' '170.000' '14.500' '26.500'\n",
      " '480.000' '18.450' '375.000' '1.650.000' '28.000' '15.250' '23.500'\n",
      " '650.000' '365.000' '75.000' '1.000.000' '36.000' '120.000' '10.400'\n",
      " '10.999' '160.000' '150.000' '7.950' '180.000' '140.000' '130.000'\n",
      " '785.000' '2.250.000' '260.000' '1.250.000' '43.000' '13.900.000'\n",
      " '1.600.000' '9.750' '165.000' '225.000' '125.000' '85.000' '80.000'\n",
      " '110.000' '290.000' '300' '475.000' '9.999' '850.000' '9.200' '240.000'\n",
      " '330.000' '27.000' '750.000' '2.265.000' '46.000' '590.000' '57.500'\n",
      " '700.000' '23' '29.750' '48.000' '14.250' '1.050.000' '36.500'\n",
      " '1.750.000' '415.000' '430.000' '90.000' '11.111' '720.000' '42.500'\n",
      " '625.000' '200' '1.350.000' '1.200.000' '190.000' '24.500' '16.750'\n",
      " '525.000' '13.750' '64.000' '118.000' '38.000' '1.800.000' '31.500'\n",
      " '49.900' '2.000' '4.875.000' '18.750' '104.000' '17.250' '48.500'\n",
      " '22.500.000' '115.000' '57.000' '53.000' '66.000' '12.950' '62.000'\n",
      " '265.000' '18.250' '185.000' '41.000' '26.900' '17.750' '62.500' '29.999'\n",
      " '14.750' '37.000' '16.200' '8.250' '39.500' '98.500' '28.900' '58.000'\n",
      " '15.900' '10.757' '10.750' '1.400.000' '175.000' '460.000' '20.999'\n",
      " '31.000' '56.000' '14.700' '269.900' '14.100' '530.000' '16.250' '49.000'\n",
      " '17.950' '10.900' '620.000' '24.750' '2.550.000' '95.000' '3.250.000'\n",
      " '790.000' '15.950' '14.999' '195.000' '8.000.000' '1.025.000' '67.000'\n",
      " '900.000' '1.500' '9.850' '26.000.000' '3.400' '14.300' '8.700' '1.000'\n",
      " '9.950.000' '120.000.000' '111' '11' '890.000' '42.000' '4.650.000'\n",
      " '11.750' '1.700' '8.550' '8.900' '7.200' '270.000' '3.500.000' '11.900'\n",
      " '1.190.000' '1.840.000' '6.250' '8.100' '12.750' '750' '7.999' '3.999'\n",
      " '7.900' '6.900' '5.750' '7.400' '6.999' '1.850.000' '7.100' '6.800'\n",
      " '5.700' '9.900' '7.800' '4.999' '4.750' '5.999' '8.400' '8.300' '14.990'\n",
      " '950.000' '10.800' '13.950' '780.000' '320.000' '1.250' '63.000' '1.200'\n",
      " '675.000' '8.950' '760.000' '420.000' '13' '67.500' '12' '26.750' '4.950'\n",
      " '440.000' '15' '390.000' '1.725.000' '360.000' '1.150.000' '135.000'\n",
      " '2.750' '4.100' '44.000' '16.350' '17.000.000' '921.180' '145.000'\n",
      " '41.600' '495.000' '65.500' '2.250' '595.000' '19.800' '32.750' '54.000'\n",
      " '50.000.000' '48.000.000' '465.000' '860.000' '1' '630.000' '995.000'\n",
      " '241.800' '340.000' '4.450.000' '6.500.000' '2.175.000' '2.200.000'\n",
      " '6.150.000' '410.000' '16.400' '295.000' '3.250' '1.070.000' '87.000'\n",
      " '105.000' '1.750' '875.000' '560.000' 4.5 19.0 6.5 18.5 9.5 12.0 6.0 9.0\n",
      " 7.75 '16.500.000' '11.250' '12.850' '740.000' '2.500.000' '355.000'\n",
      " '255.000' '72.000' '485.000' '285.000' '59.500' '245.000' '4.050.000'\n",
      " '32.500' '510.000' '1.225.000' '3.900.000' '30.000.000' '39.900'\n",
      " '243.000' '2.300.000' '25.000.000' '49.950' '73.000' '840.000' '310.000'\n",
      " '7.300' '3.750' '3.000.000' '1.700.000']\n"
     ]
    }
   ],
   "source": [
    "print(df['list-view-price'].unique())"
   ]
  },
  {
   "cell_type": "code",
   "execution_count": 21,
   "metadata": {},
   "outputs": [
    {
     "name": "stdout",
     "output_type": "stream",
     "text": [
      "[       70        85       165       200       220       725       150\n",
      "       100        75       675       210       140        80      7500\n",
      "      8500     15000      5000      7000      8000     11000      9000\n",
      "      3000     10000      6500      2500      6000      5500      8750\n",
      "      4250      4500     12500      5250     12000      7250      6750\n",
      "      7750      3500      6600      5100     13000      5600   1100000\n",
      "      9500      4000     13250     19000     29000     30000     25000\n",
      "     18500     83000     14000    380000     20000    210000    280000\n",
      "    325000     16000      9250     37500    600000       350     15500\n",
      "    500000    200000     20500     13500     11500     17000    800000\n",
      "     10500     22000     18000     50000     65000    550000     45000\n",
      "     33000    100000     21500     28500     26000     22500    220000\n",
      "    400000     39000     27500     16500     29500     15750     40000\n",
      "     21750     35000     25500     21000    235000     34000     96000\n",
      "     55000    425000     24000     23000     19750     70000     52500\n",
      "     32000    450000    275000     19360     17500     19500    370000\n",
      "    350000      9800    680000  15590000     34500    250000     60000\n",
      "    300000    170000     14500     26500    480000     18450    375000\n",
      "   1650000     28000     15250     23500    650000    365000     75000\n",
      "   1000000     36000    120000     10400     10999    160000    150000\n",
      "      7950    180000    140000    130000    785000   2250000    260000\n",
      "   1250000     43000  13900000   1600000      9750    165000    225000\n",
      "    125000     85000     80000    110000    290000       300    475000\n",
      "      9999    850000      9200    240000    330000     27000    750000\n",
      "   2265000     46000    590000     57500    700000        23     29750\n",
      "     48000     14250   1050000     36500   1750000    415000    430000\n",
      "     90000     11111    720000     42500    625000   1350000   1200000\n",
      "    190000     24500     16750    525000     13750     64000    118000\n",
      "     38000   1800000     31500     49900      2000   4875000     18750\n",
      "    104000     17250     48500  22500000    115000     57000     53000\n",
      "     66000     12950     62000    265000     18250    185000     41000\n",
      "     26900     17750     62500     29999     14750     37000     16200\n",
      "      8250     39500     98500     28900     58000     15900     10757\n",
      "     10750   1400000    175000    460000     20999     31000     56000\n",
      "     14700    269900     14100    530000     16250     49000     17950\n",
      "     10900    620000     24750   2550000     95000   3250000    790000\n",
      "     15950     14999    195000   8000000   1025000     67000    900000\n",
      "      1500      9850  26000000      3400     14300      8700      1000\n",
      "   9950000 120000000       111        11    890000     42000   4650000\n",
      "     11750      1700      8550      8900      7200    270000   3500000\n",
      "     11900   1190000   1840000      6250      8100     12750       750\n",
      "      7999      3999      7900      6900      5750      7400      6999\n",
      "   1850000      7100      6800      5700      9900      7800      4999\n",
      "      4750      5999      8400      8300     14990    950000     10800\n",
      "     13950    780000    320000      1250     63000      1200    675000\n",
      "      8950    760000    420000        13     67500        12     26750\n",
      "      4950    440000        15    390000   1725000    360000   1150000\n",
      "    135000      2750      4100     44000     16350  17000000    921180\n",
      "    145000     41600    495000     65500      2250    595000     19800\n",
      "     32750     54000  50000000  48000000    465000    860000         1\n",
      "    630000    995000    241800    340000   4450000   6500000   2175000\n",
      "   2200000   6150000    410000     16400    295000      3250   1070000\n",
      "     87000    105000      1750    875000    560000        45       190\n",
      "        65       185        95       120        60        90       775\n",
      "  16500000     11250     12850    740000   2500000    355000    255000\n",
      "     72000    485000    285000     59500    245000   4050000     32500\n",
      "    510000   1225000   3900000  30000000     39900    243000   2300000\n",
      "  25000000     49950     73000    840000    310000      7300      3750\n",
      "   3000000   1700000]\n"
     ]
    }
   ],
   "source": [
    "df['list-view-price'] = df['list-view-price'].astype(str).apply(lambda x: x.replace('.', ''))\n",
    "df['price'] = df['list-view-price'].astype(int)\n",
    "\n",
    "print(df['price'].unique())"
   ]
  },
  {
   "cell_type": "code",
   "execution_count": 22,
   "metadata": {},
   "outputs": [],
   "source": [
    "df.drop('list-view-price', axis=1, inplace=True)"
   ]
  },
  {
   "cell_type": "markdown",
   "metadata": {},
   "source": [
    "Kalan sütunların görüntülenmesi"
   ]
  },
  {
   "cell_type": "code",
   "execution_count": 23,
   "metadata": {},
   "outputs": [
    {
     "name": "stdout",
     "output_type": "stream",
     "text": [
      "Index(['list-view-header', 'list-view-location', 'city', 'district',\n",
      "       'neighborhood', 'room', 'living_room', 'area', 'age', 'floor', 'price'],\n",
      "      dtype='object')\n"
     ]
    }
   ],
   "source": [
    "print(df.columns)"
   ]
  },
  {
   "cell_type": "code",
   "execution_count": 24,
   "metadata": {},
   "outputs": [],
   "source": [
    "df.drop(['list-view-header', 'list-view-location'], axis=1, inplace=True)"
   ]
  },
  {
   "cell_type": "code",
   "execution_count": 25,
   "metadata": {},
   "outputs": [
    {
     "name": "stdout",
     "output_type": "stream",
     "text": [
      "Index(['city', 'district', 'neighborhood', 'room', 'living_room', 'area',\n",
      "       'age', 'floor', 'price'],\n",
      "      dtype='object')\n"
     ]
    }
   ],
   "source": [
    "print(df.columns)"
   ]
  },
  {
   "cell_type": "markdown",
   "metadata": {},
   "source": [
    "Düzenlenen verilerin tek bir .csv dosyasına kaydedilmesi"
   ]
  },
  {
   "cell_type": "code",
   "execution_count": 26,
   "metadata": {},
   "outputs": [],
   "source": [
    "df.to_csv('hepsiemlak.csv', index=False)"
   ]
  },
  {
   "cell_type": "code",
   "execution_count": null,
   "metadata": {},
   "outputs": [],
   "source": []
  }
 ],
 "metadata": {
  "kernelspec": {
   "display_name": "Python 3",
   "language": "python",
   "name": "python3"
  },
  "language_info": {
   "codemirror_mode": {
    "name": "ipython",
    "version": 3
   },
   "file_extension": ".py",
   "mimetype": "text/x-python",
   "name": "python",
   "nbconvert_exporter": "python",
   "pygments_lexer": "ipython3",
   "version": "3.12.3"
  }
 },
 "nbformat": 4,
 "nbformat_minor": 2
}
