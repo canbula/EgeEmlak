{
 "cells": [
  {
   "cell_type": "markdown",
   "metadata": {},
   "source": [
    "## Verilerin yapay sinir ağları ile açıklanması"
   ]
  },
  {
   "cell_type": "markdown",
   "metadata": {},
   "source": [
    "Gerekli paketlerin yüklenmesi"
   ]
  },
  {
   "cell_type": "code",
   "execution_count": 2,
   "metadata": {},
   "outputs": [],
   "source": [
    "import os\n",
    "import numpy as np\n",
    "import pandas as pd\n",
    "import matplotlib.pyplot as plt\n",
    "\n",
    "from sklearn.model_selection import train_test_split\n",
    "from sklearn.pipeline import Pipeline\n",
    "from sklearn.preprocessing import StandardScaler\n",
    "from sklearn.compose import ColumnTransformer\n",
    "from sklearn.preprocessing import OneHotEncoder\n",
    "from sklearn.metrics import mean_squared_error\n",
    "from sklearn.metrics import r2_score\n",
    "\n",
    "import tensorflow as tf\n",
    "from tensorflow import keras\n",
    "from keras.models import Sequential\n",
    "from keras.layers import Dense, Dropout\n",
    "from keras.callbacks import EarlyStopping\n",
    "from scikeras.wrappers import KerasRegressor"
   ]
  },
  {
   "cell_type": "markdown",
   "metadata": {},
   "source": [
    "Verilerin okunması"
   ]
  },
  {
   "cell_type": "code",
   "execution_count": 3,
   "metadata": {},
   "outputs": [],
   "source": [
    "df = pd.read_csv('hepsiemlak_cleaned.csv')"
   ]
  },
  {
   "cell_type": "markdown",
   "metadata": {},
   "source": [
    "Değişken tiplerinin ayarlanması"
   ]
  },
  {
   "cell_type": "code",
   "execution_count": 4,
   "metadata": {},
   "outputs": [
    {
     "name": "stdout",
     "output_type": "stream",
     "text": [
      "<class 'pandas.core.frame.DataFrame'>\n",
      "RangeIndex: 6116 entries, 0 to 6115\n",
      "Data columns (total 9 columns):\n",
      " #   Column        Non-Null Count  Dtype   \n",
      "---  ------        --------------  -----   \n",
      " 0   city          6116 non-null   category\n",
      " 1   district      6116 non-null   category\n",
      " 2   neighborhood  6116 non-null   category\n",
      " 3   room          6116 non-null   int64   \n",
      " 4   living_room   6116 non-null   int64   \n",
      " 5   area          6116 non-null   int64   \n",
      " 6   age           6116 non-null   int64   \n",
      " 7   floor         6116 non-null   int64   \n",
      " 8   price         6116 non-null   int64   \n",
      "dtypes: category(3), int64(6)\n",
      "memory usage: 334.8 KB\n",
      "None\n"
     ]
    }
   ],
   "source": [
    "df['city'] = df['city'].astype('category')\n",
    "df['district'] = df['district'].astype('category')\n",
    "df['neighborhood'] = df['neighborhood'].astype('category')\n",
    "df['room'] = df['room'].astype('int')\n",
    "df['living_room'] = df['living_room'].astype('int')\n",
    "df['area'] = df['area'].astype('int')\n",
    "df['age'] = df['age'].astype('int')\n",
    "df['floor'] = df['floor'].astype('int')\n",
    "df['price'] = df['price'].astype('int')\n",
    "\n",
    "print(df.info())"
   ]
  },
  {
   "cell_type": "code",
   "execution_count": 5,
   "metadata": {},
   "outputs": [],
   "source": [
    "categorical_features = ['city', 'district', 'neighborhood']\n",
    "numerical_features = ['room', 'living_room', 'area', 'age', 'floor']"
   ]
  },
  {
   "cell_type": "markdown",
   "metadata": {},
   "source": [
    "Yapay sinir ağının oluşturulması"
   ]
  },
  {
   "cell_type": "code",
   "execution_count": 6,
   "metadata": {},
   "outputs": [],
   "source": [
    "def create_model(input_shape):\n",
    "    model = Sequential([\n",
    "        Dense(128, activation='relu', input_shape=(input_shape,)),\n",
    "        Dropout(0.1),\n",
    "        Dense(64, activation='relu'),\n",
    "        Dense(32, activation='relu'),\n",
    "        Dense(1)\n",
    "    ])\n",
    "    model.compile(keras.optimizers.Adam(), loss='mse', metrics=['mae', 'mse'])\n",
    "    return model"
   ]
  },
  {
   "cell_type": "code",
   "execution_count": 7,
   "metadata": {},
   "outputs": [],
   "source": [
    "numeric_transformer = Pipeline(steps=[\n",
    "    ('scaler', StandardScaler())\n",
    "])\n",
    "\n",
    "categorical_transformer = Pipeline(steps=[\n",
    "    ('onehot', OneHotEncoder(handle_unknown='ignore'))\n",
    "])"
   ]
  },
  {
   "cell_type": "code",
   "execution_count": 8,
   "metadata": {},
   "outputs": [],
   "source": [
    "preprocessor = ColumnTransformer(\n",
    "    transformers=[\n",
    "        ('num', numeric_transformer, numerical_features),\n",
    "        ('cat', categorical_transformer, categorical_features)\n",
    "    ])"
   ]
  },
  {
   "cell_type": "code",
   "execution_count": 10,
   "metadata": {},
   "outputs": [],
   "source": [
    "X = df.drop('price', axis=1)\n",
    "y = df['price']\n",
    "\n",
    "X_train, X_test, y_train, y_test = train_test_split(X, y, test_size=0.2, random_state=42)"
   ]
  },
  {
   "cell_type": "code",
   "execution_count": 11,
   "metadata": {},
   "outputs": [],
   "source": [
    "X_train_preprocessed = preprocessor.fit_transform(X_train)\n",
    "X_test_preprocessed = preprocessor.transform(X_test)"
   ]
  },
  {
   "cell_type": "markdown",
   "metadata": {},
   "source": [
    "Modelin eğitilmesi"
   ]
  },
  {
   "cell_type": "code",
   "execution_count": 12,
   "metadata": {},
   "outputs": [
    {
     "name": "stdout",
     "output_type": "stream",
     "text": [
      "Epoch 1/100\n"
     ]
    },
    {
     "name": "stderr",
     "output_type": "stream",
     "text": [
      "/opt/homebrew/lib/python3.12/site-packages/keras/src/layers/core/dense.py:86: UserWarning: Do not pass an `input_shape`/`input_dim` argument to a layer. When using Sequential models, prefer using an `Input(shape)` object as the first layer in the model instead.\n",
      "  super().__init__(activity_regularizer=activity_regularizer, **kwargs)\n"
     ]
    },
    {
     "name": "stdout",
     "output_type": "stream",
     "text": [
      "\u001b[1m123/123\u001b[0m \u001b[32m━━━━━━━━━━━━━━━━━━━━\u001b[0m\u001b[37m\u001b[0m \u001b[1m1s\u001b[0m 2ms/step - loss: 432894080.0000 - mae: 18103.3242 - mse: 432894080.0000 - val_loss: 396223040.0000 - val_mae: 17192.8789 - val_mse: 396223040.0000\n",
      "Epoch 2/100\n",
      "\u001b[1m123/123\u001b[0m \u001b[32m━━━━━━━━━━━━━━━━━━━━\u001b[0m\u001b[37m\u001b[0m \u001b[1m0s\u001b[0m 907us/step - loss: 331849312.0000 - mae: 15215.0264 - mse: 331849312.0000 - val_loss: 98022456.0000 - val_mae: 6348.4209 - val_mse: 98022456.0000\n",
      "Epoch 3/100\n",
      "\u001b[1m123/123\u001b[0m \u001b[32m━━━━━━━━━━━━━━━━━━━━\u001b[0m\u001b[37m\u001b[0m \u001b[1m0s\u001b[0m 875us/step - loss: 79211400.0000 - mae: 6122.5122 - mse: 79211400.0000 - val_loss: 62241812.0000 - val_mae: 5381.9497 - val_mse: 62241812.0000\n",
      "Epoch 4/100\n",
      "\u001b[1m123/123\u001b[0m \u001b[32m━━━━━━━━━━━━━━━━━━━━\u001b[0m\u001b[37m\u001b[0m \u001b[1m0s\u001b[0m 869us/step - loss: 58303532.0000 - mae: 5299.6348 - mse: 58303532.0000 - val_loss: 53018964.0000 - val_mae: 4962.8960 - val_mse: 53018964.0000\n",
      "Epoch 5/100\n",
      "\u001b[1m123/123\u001b[0m \u001b[32m━━━━━━━━━━━━━━━━━━━━\u001b[0m\u001b[37m\u001b[0m \u001b[1m0s\u001b[0m 840us/step - loss: 50408584.0000 - mae: 4919.7417 - mse: 50408584.0000 - val_loss: 47866816.0000 - val_mae: 4737.1694 - val_mse: 47866816.0000\n",
      "Epoch 6/100\n",
      "\u001b[1m123/123\u001b[0m \u001b[32m━━━━━━━━━━━━━━━━━━━━\u001b[0m\u001b[37m\u001b[0m \u001b[1m0s\u001b[0m 837us/step - loss: 44603332.0000 - mae: 4512.1821 - mse: 44603332.0000 - val_loss: 44838212.0000 - val_mae: 4485.5688 - val_mse: 44838212.0000\n",
      "Epoch 7/100\n",
      "\u001b[1m123/123\u001b[0m \u001b[32m━━━━━━━━━━━━━━━━━━━━\u001b[0m\u001b[37m\u001b[0m \u001b[1m0s\u001b[0m 875us/step - loss: 44019232.0000 - mae: 4473.6528 - mse: 44019232.0000 - val_loss: 43227700.0000 - val_mae: 4397.7241 - val_mse: 43227700.0000\n",
      "Epoch 8/100\n",
      "\u001b[1m123/123\u001b[0m \u001b[32m━━━━━━━━━━━━━━━━━━━━\u001b[0m\u001b[37m\u001b[0m \u001b[1m0s\u001b[0m 841us/step - loss: 42247120.0000 - mae: 4319.3589 - mse: 42247120.0000 - val_loss: 42104168.0000 - val_mae: 4455.5103 - val_mse: 42104168.0000\n",
      "Epoch 9/100\n",
      "\u001b[1m123/123\u001b[0m \u001b[32m━━━━━━━━━━━━━━━━━━━━\u001b[0m\u001b[37m\u001b[0m \u001b[1m0s\u001b[0m 888us/step - loss: 38641104.0000 - mae: 4191.5342 - mse: 38641104.0000 - val_loss: 41413896.0000 - val_mae: 4301.0659 - val_mse: 41413896.0000\n",
      "Epoch 10/100\n",
      "\u001b[1m123/123\u001b[0m \u001b[32m━━━━━━━━━━━━━━━━━━━━\u001b[0m\u001b[37m\u001b[0m \u001b[1m0s\u001b[0m 842us/step - loss: 37728528.0000 - mae: 4086.6177 - mse: 37728528.0000 - val_loss: 40998904.0000 - val_mae: 4279.7681 - val_mse: 40998904.0000\n",
      "Epoch 11/100\n",
      "\u001b[1m123/123\u001b[0m \u001b[32m━━━━━━━━━━━━━━━━━━━━\u001b[0m\u001b[37m\u001b[0m \u001b[1m0s\u001b[0m 895us/step - loss: 37137124.0000 - mae: 4068.8474 - mse: 37137124.0000 - val_loss: 40719012.0000 - val_mae: 4266.5879 - val_mse: 40719012.0000\n",
      "Epoch 12/100\n",
      "\u001b[1m123/123\u001b[0m \u001b[32m━━━━━━━━━━━━━━━━━━━━\u001b[0m\u001b[37m\u001b[0m \u001b[1m0s\u001b[0m 921us/step - loss: 38566796.0000 - mae: 4097.2803 - mse: 38566796.0000 - val_loss: 40358868.0000 - val_mae: 4244.6792 - val_mse: 40358868.0000\n",
      "Epoch 13/100\n",
      "\u001b[1m123/123\u001b[0m \u001b[32m━━━━━━━━━━━━━━━━━━━━\u001b[0m\u001b[37m\u001b[0m \u001b[1m0s\u001b[0m 911us/step - loss: 37065024.0000 - mae: 4014.6748 - mse: 37065024.0000 - val_loss: 40297772.0000 - val_mae: 4257.6616 - val_mse: 40297772.0000\n",
      "Epoch 14/100\n",
      "\u001b[1m123/123\u001b[0m \u001b[32m━━━━━━━━━━━━━━━━━━━━\u001b[0m\u001b[37m\u001b[0m \u001b[1m0s\u001b[0m 925us/step - loss: 36120824.0000 - mae: 3904.8223 - mse: 36120824.0000 - val_loss: 39947416.0000 - val_mae: 4271.2729 - val_mse: 39947416.0000\n",
      "Epoch 15/100\n",
      "\u001b[1m123/123\u001b[0m \u001b[32m━━━━━━━━━━━━━━━━━━━━\u001b[0m\u001b[37m\u001b[0m \u001b[1m0s\u001b[0m 883us/step - loss: 35306188.0000 - mae: 3863.0088 - mse: 35306188.0000 - val_loss: 39979000.0000 - val_mae: 4249.4805 - val_mse: 39979000.0000\n",
      "Epoch 16/100\n",
      "\u001b[1m123/123\u001b[0m \u001b[32m━━━━━━━━━━━━━━━━━━━━\u001b[0m\u001b[37m\u001b[0m \u001b[1m0s\u001b[0m 886us/step - loss: 34877392.0000 - mae: 3907.3274 - mse: 34877392.0000 - val_loss: 39888572.0000 - val_mae: 4263.1313 - val_mse: 39888572.0000\n",
      "Epoch 17/100\n",
      "\u001b[1m123/123\u001b[0m \u001b[32m━━━━━━━━━━━━━━━━━━━━\u001b[0m\u001b[37m\u001b[0m \u001b[1m0s\u001b[0m 833us/step - loss: 36526344.0000 - mae: 3906.6096 - mse: 36526344.0000 - val_loss: 39956020.0000 - val_mae: 4223.7373 - val_mse: 39956020.0000\n",
      "Epoch 18/100\n",
      "\u001b[1m123/123\u001b[0m \u001b[32m━━━━━━━━━━━━━━━━━━━━\u001b[0m\u001b[37m\u001b[0m \u001b[1m0s\u001b[0m 909us/step - loss: 34394348.0000 - mae: 3906.8396 - mse: 34394348.0000 - val_loss: 39827876.0000 - val_mae: 4234.4536 - val_mse: 39827876.0000\n",
      "Epoch 19/100\n",
      "\u001b[1m123/123\u001b[0m \u001b[32m━━━━━━━━━━━━━━━━━━━━\u001b[0m\u001b[37m\u001b[0m \u001b[1m0s\u001b[0m 883us/step - loss: 34073328.0000 - mae: 3852.1890 - mse: 34073328.0000 - val_loss: 39998516.0000 - val_mae: 4248.2734 - val_mse: 39998516.0000\n",
      "Epoch 20/100\n",
      "\u001b[1m123/123\u001b[0m \u001b[32m━━━━━━━━━━━━━━━━━━━━\u001b[0m\u001b[37m\u001b[0m \u001b[1m0s\u001b[0m 923us/step - loss: 34409704.0000 - mae: 3793.9753 - mse: 34409704.0000 - val_loss: 40149496.0000 - val_mae: 4231.8394 - val_mse: 40149496.0000\n",
      "Epoch 21/100\n",
      "\u001b[1m123/123\u001b[0m \u001b[32m━━━━━━━━━━━━━━━━━━━━\u001b[0m\u001b[37m\u001b[0m \u001b[1m0s\u001b[0m 903us/step - loss: 35836212.0000 - mae: 3911.2358 - mse: 35836212.0000 - val_loss: 39898044.0000 - val_mae: 4227.9414 - val_mse: 39898044.0000\n",
      "Epoch 22/100\n",
      "\u001b[1m123/123\u001b[0m \u001b[32m━━━━━━━━━━━━━━━━━━━━\u001b[0m\u001b[37m\u001b[0m \u001b[1m0s\u001b[0m 916us/step - loss: 31867768.0000 - mae: 3718.8359 - mse: 31867768.0000 - val_loss: 40451460.0000 - val_mae: 4232.0981 - val_mse: 40451460.0000\n",
      "Epoch 23/100\n",
      "\u001b[1m123/123\u001b[0m \u001b[32m━━━━━━━━━━━━━━━━━━━━\u001b[0m\u001b[37m\u001b[0m \u001b[1m0s\u001b[0m 1ms/step - loss: 33176114.0000 - mae: 3706.0435 - mse: 33176114.0000 - val_loss: 40066724.0000 - val_mae: 4282.5400 - val_mse: 40066724.0000\n",
      "Epoch 24/100\n",
      "\u001b[1m123/123\u001b[0m \u001b[32m━━━━━━━━━━━━━━━━━━━━\u001b[0m\u001b[37m\u001b[0m \u001b[1m0s\u001b[0m 827us/step - loss: 32928472.0000 - mae: 3756.5603 - mse: 32928472.0000 - val_loss: 40240184.0000 - val_mae: 4306.1890 - val_mse: 40240184.0000\n",
      "Epoch 25/100\n",
      "\u001b[1m123/123\u001b[0m \u001b[32m━━━━━━━━━━━━━━━━━━━━\u001b[0m\u001b[37m\u001b[0m \u001b[1m0s\u001b[0m 875us/step - loss: 33138386.0000 - mae: 3738.7683 - mse: 33138386.0000 - val_loss: 40191456.0000 - val_mae: 4250.9751 - val_mse: 40191456.0000\n",
      "Epoch 26/100\n",
      "\u001b[1m123/123\u001b[0m \u001b[32m━━━━━━━━━━━━━━━━━━━━\u001b[0m\u001b[37m\u001b[0m \u001b[1m0s\u001b[0m 824us/step - loss: 34204004.0000 - mae: 3772.6138 - mse: 34204004.0000 - val_loss: 40347604.0000 - val_mae: 4309.7705 - val_mse: 40347604.0000\n",
      "Epoch 27/100\n",
      "\u001b[1m123/123\u001b[0m \u001b[32m━━━━━━━━━━━━━━━━━━━━\u001b[0m\u001b[37m\u001b[0m \u001b[1m0s\u001b[0m 852us/step - loss: 30669326.0000 - mae: 3650.3457 - mse: 30669326.0000 - val_loss: 40496656.0000 - val_mae: 4241.3286 - val_mse: 40496656.0000\n",
      "Epoch 28/100\n",
      "\u001b[1m123/123\u001b[0m \u001b[32m━━━━━━━━━━━━━━━━━━━━\u001b[0m\u001b[37m\u001b[0m \u001b[1m0s\u001b[0m 829us/step - loss: 33446304.0000 - mae: 3785.4204 - mse: 33446304.0000 - val_loss: 40440100.0000 - val_mae: 4252.5991 - val_mse: 40440100.0000\n",
      "Epoch 29/100\n",
      "\u001b[1m123/123\u001b[0m \u001b[32m━━━━━━━━━━━━━━━━━━━━\u001b[0m\u001b[37m\u001b[0m \u001b[1m0s\u001b[0m 830us/step - loss: 35391352.0000 - mae: 3803.6338 - mse: 35391352.0000 - val_loss: 40359040.0000 - val_mae: 4290.2095 - val_mse: 40359040.0000\n",
      "Epoch 30/100\n",
      "\u001b[1m123/123\u001b[0m \u001b[32m━━━━━━━━━━━━━━━━━━━━\u001b[0m\u001b[37m\u001b[0m \u001b[1m0s\u001b[0m 840us/step - loss: 32379882.0000 - mae: 3689.9536 - mse: 32379882.0000 - val_loss: 40292204.0000 - val_mae: 4255.4995 - val_mse: 40292204.0000\n",
      "Epoch 31/100\n",
      "\u001b[1m123/123\u001b[0m \u001b[32m━━━━━━━━━━━━━━━━━━━━\u001b[0m\u001b[37m\u001b[0m \u001b[1m0s\u001b[0m 821us/step - loss: 33811380.0000 - mae: 3712.9255 - mse: 33811380.0000 - val_loss: 40485344.0000 - val_mae: 4289.9746 - val_mse: 40485344.0000\n",
      "Epoch 32/100\n",
      "\u001b[1m123/123\u001b[0m \u001b[32m━━━━━━━━━━━━━━━━━━━━\u001b[0m\u001b[37m\u001b[0m \u001b[1m0s\u001b[0m 854us/step - loss: 29924940.0000 - mae: 3568.9646 - mse: 29924940.0000 - val_loss: 40511456.0000 - val_mae: 4301.1577 - val_mse: 40511456.0000\n",
      "Epoch 33/100\n",
      "\u001b[1m123/123\u001b[0m \u001b[32m━━━━━━━━━━━━━━━━━━━━\u001b[0m\u001b[37m\u001b[0m \u001b[1m0s\u001b[0m 819us/step - loss: 32239970.0000 - mae: 3698.1694 - mse: 32239970.0000 - val_loss: 40333160.0000 - val_mae: 4255.5894 - val_mse: 40333160.0000\n",
      "Epoch 34/100\n",
      "\u001b[1m123/123\u001b[0m \u001b[32m━━━━━━━━━━━━━━━━━━━━\u001b[0m\u001b[37m\u001b[0m \u001b[1m0s\u001b[0m 825us/step - loss: 33556576.0000 - mae: 3675.0720 - mse: 33556576.0000 - val_loss: 40503612.0000 - val_mae: 4269.0059 - val_mse: 40503612.0000\n",
      "Epoch 35/100\n",
      "\u001b[1m123/123\u001b[0m \u001b[32m━━━━━━━━━━━━━━━━━━━━\u001b[0m\u001b[37m\u001b[0m \u001b[1m0s\u001b[0m 824us/step - loss: 31261416.0000 - mae: 3549.5623 - mse: 31261416.0000 - val_loss: 40499408.0000 - val_mae: 4261.3218 - val_mse: 40499408.0000\n",
      "Epoch 36/100\n",
      "\u001b[1m123/123\u001b[0m \u001b[32m━━━━━━━━━━━━━━━━━━━━\u001b[0m\u001b[37m\u001b[0m \u001b[1m0s\u001b[0m 821us/step - loss: 33014126.0000 - mae: 3619.8933 - mse: 33014126.0000 - val_loss: 40856244.0000 - val_mae: 4243.8789 - val_mse: 40856244.0000\n",
      "Epoch 37/100\n",
      "\u001b[1m123/123\u001b[0m \u001b[32m━━━━━━━━━━━━━━━━━━━━\u001b[0m\u001b[37m\u001b[0m \u001b[1m0s\u001b[0m 848us/step - loss: 30681202.0000 - mae: 3547.8140 - mse: 30681202.0000 - val_loss: 40608216.0000 - val_mae: 4277.7905 - val_mse: 40608216.0000\n",
      "Epoch 38/100\n",
      "\u001b[1m123/123\u001b[0m \u001b[32m━━━━━━━━━━━━━━━━━━━━\u001b[0m\u001b[37m\u001b[0m \u001b[1m0s\u001b[0m 809us/step - loss: 28353394.0000 - mae: 3458.7395 - mse: 28353394.0000 - val_loss: 40781892.0000 - val_mae: 4278.3745 - val_mse: 40781892.0000\n",
      "Epoch 39/100\n",
      "\u001b[1m123/123\u001b[0m \u001b[32m━━━━━━━━━━━━━━━━━━━━\u001b[0m\u001b[37m\u001b[0m \u001b[1m0s\u001b[0m 829us/step - loss: 32616066.0000 - mae: 3708.8442 - mse: 32616066.0000 - val_loss: 40578000.0000 - val_mae: 4238.6489 - val_mse: 40578000.0000\n",
      "Epoch 40/100\n",
      "\u001b[1m123/123\u001b[0m \u001b[32m━━━━━━━━━━━━━━━━━━━━\u001b[0m\u001b[37m\u001b[0m \u001b[1m0s\u001b[0m 830us/step - loss: 29616144.0000 - mae: 3525.4250 - mse: 29616144.0000 - val_loss: 40642120.0000 - val_mae: 4230.0503 - val_mse: 40642120.0000\n",
      "Epoch 41/100\n",
      "\u001b[1m123/123\u001b[0m \u001b[32m━━━━━━━━━━━━━━━━━━━━\u001b[0m\u001b[37m\u001b[0m \u001b[1m0s\u001b[0m 830us/step - loss: 28129650.0000 - mae: 3448.5701 - mse: 28129650.0000 - val_loss: 40654000.0000 - val_mae: 4251.6533 - val_mse: 40654000.0000\n",
      "Epoch 42/100\n",
      "\u001b[1m123/123\u001b[0m \u001b[32m━━━━━━━━━━━━━━━━━━━━\u001b[0m\u001b[37m\u001b[0m \u001b[1m0s\u001b[0m 882us/step - loss: 29054826.0000 - mae: 3471.2654 - mse: 29054826.0000 - val_loss: 40588560.0000 - val_mae: 4235.7573 - val_mse: 40588560.0000\n",
      "Epoch 43/100\n",
      "\u001b[1m123/123\u001b[0m \u001b[32m━━━━━━━━━━━━━━━━━━━━\u001b[0m\u001b[37m\u001b[0m \u001b[1m0s\u001b[0m 830us/step - loss: 31080842.0000 - mae: 3475.9524 - mse: 31080842.0000 - val_loss: 40825252.0000 - val_mae: 4297.5806 - val_mse: 40825252.0000\n",
      "Epoch 44/100\n",
      "\u001b[1m123/123\u001b[0m \u001b[32m━━━━━━━━━━━━━━━━━━━━\u001b[0m\u001b[37m\u001b[0m \u001b[1m0s\u001b[0m 840us/step - loss: 31572958.0000 - mae: 3567.5642 - mse: 31572958.0000 - val_loss: 40668532.0000 - val_mae: 4267.0068 - val_mse: 40668532.0000\n",
      "Epoch 45/100\n",
      "\u001b[1m123/123\u001b[0m \u001b[32m━━━━━━━━━━━━━━━━━━━━\u001b[0m\u001b[37m\u001b[0m \u001b[1m0s\u001b[0m 836us/step - loss: 30479188.0000 - mae: 3496.2898 - mse: 30479188.0000 - val_loss: 40814792.0000 - val_mae: 4289.1284 - val_mse: 40814792.0000\n",
      "Epoch 46/100\n",
      "\u001b[1m123/123\u001b[0m \u001b[32m━━━━━━━━━━━━━━━━━━━━\u001b[0m\u001b[37m\u001b[0m \u001b[1m0s\u001b[0m 826us/step - loss: 29581010.0000 - mae: 3523.5356 - mse: 29581010.0000 - val_loss: 40716564.0000 - val_mae: 4247.1797 - val_mse: 40716564.0000\n",
      "Epoch 47/100\n",
      "\u001b[1m123/123\u001b[0m \u001b[32m━━━━━━━━━━━━━━━━━━━━\u001b[0m\u001b[37m\u001b[0m \u001b[1m0s\u001b[0m 826us/step - loss: 31653594.0000 - mae: 3551.0908 - mse: 31653594.0000 - val_loss: 40979316.0000 - val_mae: 4298.1934 - val_mse: 40979316.0000\n",
      "Epoch 48/100\n",
      "\u001b[1m123/123\u001b[0m \u001b[32m━━━━━━━━━━━━━━━━━━━━\u001b[0m\u001b[37m\u001b[0m \u001b[1m0s\u001b[0m 814us/step - loss: 31839166.0000 - mae: 3590.3013 - mse: 31839166.0000 - val_loss: 40898484.0000 - val_mae: 4278.5405 - val_mse: 40898484.0000\n",
      "Epoch 49/100\n",
      "\u001b[1m123/123\u001b[0m \u001b[32m━━━━━━━━━━━━━━━━━━━━\u001b[0m\u001b[37m\u001b[0m \u001b[1m0s\u001b[0m 833us/step - loss: 28140502.0000 - mae: 3411.3486 - mse: 28140502.0000 - val_loss: 40742464.0000 - val_mae: 4240.8955 - val_mse: 40742464.0000\n",
      "Epoch 50/100\n",
      "\u001b[1m123/123\u001b[0m \u001b[32m━━━━━━━━━━━━━━━━━━━━\u001b[0m\u001b[37m\u001b[0m \u001b[1m0s\u001b[0m 817us/step - loss: 31268944.0000 - mae: 3546.2410 - mse: 31268944.0000 - val_loss: 40946140.0000 - val_mae: 4279.0259 - val_mse: 40946140.0000\n",
      "Epoch 51/100\n",
      "\u001b[1m123/123\u001b[0m \u001b[32m━━━━━━━━━━━━━━━━━━━━\u001b[0m\u001b[37m\u001b[0m \u001b[1m0s\u001b[0m 840us/step - loss: 29542896.0000 - mae: 3451.9934 - mse: 29542896.0000 - val_loss: 40821808.0000 - val_mae: 4242.2363 - val_mse: 40821808.0000\n",
      "Epoch 52/100\n",
      "\u001b[1m123/123\u001b[0m \u001b[32m━━━━━━━━━━━━━━━━━━━━\u001b[0m\u001b[37m\u001b[0m \u001b[1m0s\u001b[0m 819us/step - loss: 27286506.0000 - mae: 3364.9214 - mse: 27286506.0000 - val_loss: 40797904.0000 - val_mae: 4250.7026 - val_mse: 40797904.0000\n",
      "Epoch 53/100\n",
      "\u001b[1m123/123\u001b[0m \u001b[32m━━━━━━━━━━━━━━━━━━━━\u001b[0m\u001b[37m\u001b[0m \u001b[1m0s\u001b[0m 820us/step - loss: 28777628.0000 - mae: 3436.4846 - mse: 28777628.0000 - val_loss: 40820644.0000 - val_mae: 4245.9219 - val_mse: 40820644.0000\n",
      "Epoch 54/100\n",
      "\u001b[1m123/123\u001b[0m \u001b[32m━━━━━━━━━━━━━━━━━━━━\u001b[0m\u001b[37m\u001b[0m \u001b[1m0s\u001b[0m 818us/step - loss: 32308142.0000 - mae: 3575.8904 - mse: 32308142.0000 - val_loss: 40792440.0000 - val_mae: 4231.0913 - val_mse: 40792440.0000\n",
      "Epoch 55/100\n",
      "\u001b[1m123/123\u001b[0m \u001b[32m━━━━━━━━━━━━━━━━━━━━\u001b[0m\u001b[37m\u001b[0m \u001b[1m0s\u001b[0m 802us/step - loss: 29051740.0000 - mae: 3413.8350 - mse: 29051740.0000 - val_loss: 40932784.0000 - val_mae: 4258.5386 - val_mse: 40932784.0000\n",
      "Epoch 56/100\n",
      "\u001b[1m123/123\u001b[0m \u001b[32m━━━━━━━━━━━━━━━━━━━━\u001b[0m\u001b[37m\u001b[0m \u001b[1m0s\u001b[0m 841us/step - loss: 29122028.0000 - mae: 3460.0591 - mse: 29122028.0000 - val_loss: 40901532.0000 - val_mae: 4239.2466 - val_mse: 40901532.0000\n",
      "Epoch 57/100\n",
      "\u001b[1m123/123\u001b[0m \u001b[32m━━━━━━━━━━━━━━━━━━━━\u001b[0m\u001b[37m\u001b[0m \u001b[1m0s\u001b[0m 831us/step - loss: 29231608.0000 - mae: 3396.7727 - mse: 29231608.0000 - val_loss: 41108932.0000 - val_mae: 4219.6455 - val_mse: 41108932.0000\n",
      "Epoch 58/100\n",
      "\u001b[1m123/123\u001b[0m \u001b[32m━━━━━━━━━━━━━━━━━━━━\u001b[0m\u001b[37m\u001b[0m \u001b[1m0s\u001b[0m 840us/step - loss: 26403926.0000 - mae: 3226.2146 - mse: 26403926.0000 - val_loss: 41074592.0000 - val_mae: 4245.7729 - val_mse: 41074592.0000\n",
      "Epoch 59/100\n",
      "\u001b[1m123/123\u001b[0m \u001b[32m━━━━━━━━━━━━━━━━━━━━\u001b[0m\u001b[37m\u001b[0m \u001b[1m0s\u001b[0m 818us/step - loss: 28742408.0000 - mae: 3393.7551 - mse: 28742408.0000 - val_loss: 40907320.0000 - val_mae: 4241.4902 - val_mse: 40907320.0000\n",
      "Epoch 60/100\n",
      "\u001b[1m123/123\u001b[0m \u001b[32m━━━━━━━━━━━━━━━━━━━━\u001b[0m\u001b[37m\u001b[0m \u001b[1m0s\u001b[0m 813us/step - loss: 27923086.0000 - mae: 3361.1238 - mse: 27923086.0000 - val_loss: 41047080.0000 - val_mae: 4258.5488 - val_mse: 41047080.0000\n",
      "Epoch 61/100\n",
      "\u001b[1m123/123\u001b[0m \u001b[32m━━━━━━━━━━━━━━━━━━━━\u001b[0m\u001b[37m\u001b[0m \u001b[1m0s\u001b[0m 838us/step - loss: 28172878.0000 - mae: 3308.4124 - mse: 28172878.0000 - val_loss: 41149756.0000 - val_mae: 4276.2563 - val_mse: 41149756.0000\n",
      "Epoch 62/100\n",
      "\u001b[1m123/123\u001b[0m \u001b[32m━━━━━━━━━━━━━━━━━━━━\u001b[0m\u001b[37m\u001b[0m \u001b[1m0s\u001b[0m 811us/step - loss: 29146436.0000 - mae: 3365.6968 - mse: 29146436.0000 - val_loss: 40834580.0000 - val_mae: 4246.3481 - val_mse: 40834580.0000\n",
      "Epoch 63/100\n",
      "\u001b[1m123/123\u001b[0m \u001b[32m━━━━━━━━━━━━━━━━━━━━\u001b[0m\u001b[37m\u001b[0m \u001b[1m0s\u001b[0m 830us/step - loss: 28083288.0000 - mae: 3395.6758 - mse: 28083288.0000 - val_loss: 40921520.0000 - val_mae: 4238.4990 - val_mse: 40921520.0000\n",
      "Epoch 64/100\n",
      "\u001b[1m123/123\u001b[0m \u001b[32m━━━━━━━━━━━━━━━━━━━━\u001b[0m\u001b[37m\u001b[0m \u001b[1m0s\u001b[0m 819us/step - loss: 28333844.0000 - mae: 3340.5327 - mse: 28333844.0000 - val_loss: 40924160.0000 - val_mae: 4252.1460 - val_mse: 40924160.0000\n",
      "Epoch 65/100\n",
      "\u001b[1m123/123\u001b[0m \u001b[32m━━━━━━━━━━━━━━━━━━━━\u001b[0m\u001b[37m\u001b[0m \u001b[1m0s\u001b[0m 810us/step - loss: 29638556.0000 - mae: 3398.3948 - mse: 29638556.0000 - val_loss: 40856300.0000 - val_mae: 4224.8188 - val_mse: 40856300.0000\n",
      "Epoch 66/100\n",
      "\u001b[1m123/123\u001b[0m \u001b[32m━━━━━━━━━━━━━━━━━━━━\u001b[0m\u001b[37m\u001b[0m \u001b[1m0s\u001b[0m 885us/step - loss: 27960042.0000 - mae: 3241.7390 - mse: 27960042.0000 - val_loss: 40822656.0000 - val_mae: 4224.1372 - val_mse: 40822656.0000\n",
      "Epoch 67/100\n",
      "\u001b[1m123/123\u001b[0m \u001b[32m━━━━━━━━━━━━━━━━━━━━\u001b[0m\u001b[37m\u001b[0m \u001b[1m0s\u001b[0m 818us/step - loss: 27645842.0000 - mae: 3260.2117 - mse: 27645842.0000 - val_loss: 40998844.0000 - val_mae: 4249.0581 - val_mse: 40998844.0000\n",
      "Epoch 68/100\n",
      "\u001b[1m123/123\u001b[0m \u001b[32m━━━━━━━━━━━━━━━━━━━━\u001b[0m\u001b[37m\u001b[0m \u001b[1m0s\u001b[0m 853us/step - loss: 28950378.0000 - mae: 3374.9709 - mse: 28950378.0000 - val_loss: 40979444.0000 - val_mae: 4269.0918 - val_mse: 40979444.0000\n",
      "Epoch 69/100\n",
      "\u001b[1m123/123\u001b[0m \u001b[32m━━━━━━━━━━━━━━━━━━━━\u001b[0m\u001b[37m\u001b[0m \u001b[1m0s\u001b[0m 827us/step - loss: 27182476.0000 - mae: 3279.4851 - mse: 27182476.0000 - val_loss: 40961488.0000 - val_mae: 4256.4990 - val_mse: 40961488.0000\n",
      "Epoch 70/100\n",
      "\u001b[1m123/123\u001b[0m \u001b[32m━━━━━━━━━━━━━━━━━━━━\u001b[0m\u001b[37m\u001b[0m \u001b[1m0s\u001b[0m 846us/step - loss: 27180988.0000 - mae: 3261.1589 - mse: 27180988.0000 - val_loss: 41278984.0000 - val_mae: 4277.6899 - val_mse: 41278984.0000\n",
      "Epoch 71/100\n",
      "\u001b[1m123/123\u001b[0m \u001b[32m━━━━━━━━━━━━━━━━━━━━\u001b[0m\u001b[37m\u001b[0m \u001b[1m0s\u001b[0m 827us/step - loss: 26655070.0000 - mae: 3267.0872 - mse: 26655070.0000 - val_loss: 40697204.0000 - val_mae: 4210.5903 - val_mse: 40697204.0000\n",
      "Epoch 72/100\n",
      "\u001b[1m123/123\u001b[0m \u001b[32m━━━━━━━━━━━━━━━━━━━━\u001b[0m\u001b[37m\u001b[0m \u001b[1m0s\u001b[0m 821us/step - loss: 24867182.0000 - mae: 3193.6108 - mse: 24867182.0000 - val_loss: 40791700.0000 - val_mae: 4205.1753 - val_mse: 40791700.0000\n",
      "Epoch 73/100\n",
      "\u001b[1m123/123\u001b[0m \u001b[32m━━━━━━━━━━━━━━━━━━━━\u001b[0m\u001b[37m\u001b[0m \u001b[1m0s\u001b[0m 826us/step - loss: 26963882.0000 - mae: 3284.0530 - mse: 26963882.0000 - val_loss: 40936264.0000 - val_mae: 4233.0669 - val_mse: 40936264.0000\n",
      "Epoch 74/100\n",
      "\u001b[1m123/123\u001b[0m \u001b[32m━━━━━━━━━━━━━━━━━━━━\u001b[0m\u001b[37m\u001b[0m \u001b[1m0s\u001b[0m 829us/step - loss: 27409682.0000 - mae: 3269.9121 - mse: 27409682.0000 - val_loss: 40958936.0000 - val_mae: 4231.5303 - val_mse: 40958936.0000\n",
      "Epoch 75/100\n",
      "\u001b[1m123/123\u001b[0m \u001b[32m━━━━━━━━━━━━━━━━━━━━\u001b[0m\u001b[37m\u001b[0m \u001b[1m0s\u001b[0m 823us/step - loss: 26945956.0000 - mae: 3230.8352 - mse: 26945956.0000 - val_loss: 40671244.0000 - val_mae: 4210.5479 - val_mse: 40671244.0000\n",
      "Epoch 76/100\n",
      "\u001b[1m123/123\u001b[0m \u001b[32m━━━━━━━━━━━━━━━━━━━━\u001b[0m\u001b[37m\u001b[0m \u001b[1m0s\u001b[0m 819us/step - loss: 27725072.0000 - mae: 3314.4248 - mse: 27725072.0000 - val_loss: 40855820.0000 - val_mae: 4238.2485 - val_mse: 40855820.0000\n",
      "Epoch 77/100\n",
      "\u001b[1m123/123\u001b[0m \u001b[32m━━━━━━━━━━━━━━━━━━━━\u001b[0m\u001b[37m\u001b[0m \u001b[1m0s\u001b[0m 815us/step - loss: 26343352.0000 - mae: 3164.7114 - mse: 26343352.0000 - val_loss: 40884904.0000 - val_mae: 4203.8672 - val_mse: 40884904.0000\n",
      "Epoch 78/100\n",
      "\u001b[1m123/123\u001b[0m \u001b[32m━━━━━━━━━━━━━━━━━━━━\u001b[0m\u001b[37m\u001b[0m \u001b[1m0s\u001b[0m 836us/step - loss: 28143264.0000 - mae: 3230.7866 - mse: 28143264.0000 - val_loss: 41017540.0000 - val_mae: 4253.8022 - val_mse: 41017540.0000\n",
      "Epoch 79/100\n",
      "\u001b[1m123/123\u001b[0m \u001b[32m━━━━━━━━━━━━━━━━━━━━\u001b[0m\u001b[37m\u001b[0m \u001b[1m0s\u001b[0m 809us/step - loss: 27706130.0000 - mae: 3331.7854 - mse: 27706130.0000 - val_loss: 40821500.0000 - val_mae: 4209.5884 - val_mse: 40821500.0000\n",
      "Epoch 80/100\n",
      "\u001b[1m123/123\u001b[0m \u001b[32m━━━━━━━━━━━━━━━━━━━━\u001b[0m\u001b[37m\u001b[0m \u001b[1m0s\u001b[0m 935us/step - loss: 24517732.0000 - mae: 3103.5054 - mse: 24517732.0000 - val_loss: 40729116.0000 - val_mae: 4209.4795 - val_mse: 40729116.0000\n",
      "Epoch 81/100\n",
      "\u001b[1m123/123\u001b[0m \u001b[32m━━━━━━━━━━━━━━━━━━━━\u001b[0m\u001b[37m\u001b[0m \u001b[1m0s\u001b[0m 828us/step - loss: 28596006.0000 - mae: 3237.3423 - mse: 28596006.0000 - val_loss: 40976636.0000 - val_mae: 4218.1440 - val_mse: 40976636.0000\n",
      "Epoch 82/100\n",
      "\u001b[1m123/123\u001b[0m \u001b[32m━━━━━━━━━━━━━━━━━━━━\u001b[0m\u001b[37m\u001b[0m \u001b[1m0s\u001b[0m 824us/step - loss: 27198086.0000 - mae: 3249.7937 - mse: 27198086.0000 - val_loss: 40811904.0000 - val_mae: 4239.9058 - val_mse: 40811904.0000\n",
      "Epoch 83/100\n",
      "\u001b[1m123/123\u001b[0m \u001b[32m━━━━━━━━━━━━━━━━━━━━\u001b[0m\u001b[37m\u001b[0m \u001b[1m0s\u001b[0m 826us/step - loss: 26575082.0000 - mae: 3201.2761 - mse: 26575082.0000 - val_loss: 40833500.0000 - val_mae: 4243.2158 - val_mse: 40833500.0000\n",
      "Epoch 84/100\n",
      "\u001b[1m123/123\u001b[0m \u001b[32m━━━━━━━━━━━━━━━━━━━━\u001b[0m\u001b[37m\u001b[0m \u001b[1m0s\u001b[0m 839us/step - loss: 25538390.0000 - mae: 3179.1597 - mse: 25538390.0000 - val_loss: 40758528.0000 - val_mae: 4200.9575 - val_mse: 40758528.0000\n",
      "Epoch 85/100\n",
      "\u001b[1m123/123\u001b[0m \u001b[32m━━━━━━━━━━━━━━━━━━━━\u001b[0m\u001b[37m\u001b[0m \u001b[1m0s\u001b[0m 856us/step - loss: 26799296.0000 - mae: 3199.5610 - mse: 26799296.0000 - val_loss: 41174824.0000 - val_mae: 4269.1094 - val_mse: 41174824.0000\n",
      "Epoch 86/100\n",
      "\u001b[1m123/123\u001b[0m \u001b[32m━━━━━━━━━━━━━━━━━━━━\u001b[0m\u001b[37m\u001b[0m \u001b[1m0s\u001b[0m 818us/step - loss: 28129560.0000 - mae: 3294.4023 - mse: 28129560.0000 - val_loss: 40766912.0000 - val_mae: 4229.1875 - val_mse: 40766912.0000\n",
      "Epoch 87/100\n",
      "\u001b[1m123/123\u001b[0m \u001b[32m━━━━━━━━━━━━━━━━━━━━\u001b[0m\u001b[37m\u001b[0m \u001b[1m0s\u001b[0m 827us/step - loss: 26221756.0000 - mae: 3171.6714 - mse: 26221756.0000 - val_loss: 41069376.0000 - val_mae: 4225.7422 - val_mse: 41069376.0000\n",
      "Epoch 88/100\n",
      "\u001b[1m123/123\u001b[0m \u001b[32m━━━━━━━━━━━━━━━━━━━━\u001b[0m\u001b[37m\u001b[0m \u001b[1m0s\u001b[0m 819us/step - loss: 24539782.0000 - mae: 3087.4302 - mse: 24539782.0000 - val_loss: 40798160.0000 - val_mae: 4210.3018 - val_mse: 40798160.0000\n",
      "Epoch 89/100\n",
      "\u001b[1m123/123\u001b[0m \u001b[32m━━━━━━━━━━━━━━━━━━━━\u001b[0m\u001b[37m\u001b[0m \u001b[1m0s\u001b[0m 1ms/step - loss: 26566184.0000 - mae: 3163.7188 - mse: 26566184.0000 - val_loss: 40976228.0000 - val_mae: 4217.4829 - val_mse: 40976228.0000\n",
      "Epoch 90/100\n",
      "\u001b[1m123/123\u001b[0m \u001b[32m━━━━━━━━━━━━━━━━━━━━\u001b[0m\u001b[37m\u001b[0m \u001b[1m0s\u001b[0m 814us/step - loss: 27471774.0000 - mae: 3213.4668 - mse: 27471774.0000 - val_loss: 40877512.0000 - val_mae: 4201.7969 - val_mse: 40877512.0000\n",
      "Epoch 91/100\n",
      "\u001b[1m123/123\u001b[0m \u001b[32m━━━━━━━━━━━━━━━━━━━━\u001b[0m\u001b[37m\u001b[0m \u001b[1m0s\u001b[0m 836us/step - loss: 27124276.0000 - mae: 3199.9426 - mse: 27124276.0000 - val_loss: 41133188.0000 - val_mae: 4223.9028 - val_mse: 41133188.0000\n",
      "Epoch 92/100\n",
      "\u001b[1m123/123\u001b[0m \u001b[32m━━━━━━━━━━━━━━━━━━━━\u001b[0m\u001b[37m\u001b[0m \u001b[1m0s\u001b[0m 896us/step - loss: 26874752.0000 - mae: 3244.1270 - mse: 26874752.0000 - val_loss: 40899852.0000 - val_mae: 4226.8086 - val_mse: 40899852.0000\n",
      "Epoch 93/100\n",
      "\u001b[1m123/123\u001b[0m \u001b[32m━━━━━━━━━━━━━━━━━━━━\u001b[0m\u001b[37m\u001b[0m \u001b[1m0s\u001b[0m 826us/step - loss: 26444946.0000 - mae: 3193.9729 - mse: 26444946.0000 - val_loss: 41127976.0000 - val_mae: 4261.7803 - val_mse: 41127976.0000\n",
      "Epoch 94/100\n",
      "\u001b[1m123/123\u001b[0m \u001b[32m━━━━━━━━━━━━━━━━━━━━\u001b[0m\u001b[37m\u001b[0m \u001b[1m0s\u001b[0m 820us/step - loss: 25597322.0000 - mae: 3119.9607 - mse: 25597322.0000 - val_loss: 40744864.0000 - val_mae: 4205.2856 - val_mse: 40744864.0000\n",
      "Epoch 95/100\n",
      "\u001b[1m123/123\u001b[0m \u001b[32m━━━━━━━━━━━━━━━━━━━━\u001b[0m\u001b[37m\u001b[0m \u001b[1m0s\u001b[0m 832us/step - loss: 27180816.0000 - mae: 3218.1504 - mse: 27180816.0000 - val_loss: 41058700.0000 - val_mae: 4216.5298 - val_mse: 41058700.0000\n",
      "Epoch 96/100\n",
      "\u001b[1m123/123\u001b[0m \u001b[32m━━━━━━━━━━━━━━━━━━━━\u001b[0m\u001b[37m\u001b[0m \u001b[1m0s\u001b[0m 829us/step - loss: 25356754.0000 - mae: 3151.2634 - mse: 25356754.0000 - val_loss: 40899684.0000 - val_mae: 4248.2754 - val_mse: 40899684.0000\n",
      "Epoch 97/100\n",
      "\u001b[1m123/123\u001b[0m \u001b[32m━━━━━━━━━━━━━━━━━━━━\u001b[0m\u001b[37m\u001b[0m \u001b[1m0s\u001b[0m 823us/step - loss: 25845926.0000 - mae: 3070.7478 - mse: 25845926.0000 - val_loss: 40839088.0000 - val_mae: 4217.7378 - val_mse: 40839088.0000\n",
      "Epoch 98/100\n",
      "\u001b[1m123/123\u001b[0m \u001b[32m━━━━━━━━━━━━━━━━━━━━\u001b[0m\u001b[37m\u001b[0m \u001b[1m0s\u001b[0m 813us/step - loss: 25184984.0000 - mae: 3065.0571 - mse: 25184984.0000 - val_loss: 40900024.0000 - val_mae: 4211.2212 - val_mse: 40900024.0000\n",
      "Epoch 99/100\n",
      "\u001b[1m123/123\u001b[0m \u001b[32m━━━━━━━━━━━━━━━━━━━━\u001b[0m\u001b[37m\u001b[0m \u001b[1m0s\u001b[0m 843us/step - loss: 24256708.0000 - mae: 3060.8616 - mse: 24256708.0000 - val_loss: 40879700.0000 - val_mae: 4240.6011 - val_mse: 40879700.0000\n",
      "Epoch 100/100\n",
      "\u001b[1m123/123\u001b[0m \u001b[32m━━━━━━━━━━━━━━━━━━━━\u001b[0m\u001b[37m\u001b[0m \u001b[1m0s\u001b[0m 830us/step - loss: 27180352.0000 - mae: 3231.1204 - mse: 27180352.0000 - val_loss: 40717880.0000 - val_mae: 4207.2847 - val_mse: 40717880.0000\n"
     ]
    }
   ],
   "source": [
    "model = create_model(X_train_preprocessed.shape[1])\n",
    "# history = model.fit(X_train_preprocessed, y_train, epochs=100, validation_split=0.2, verbose=1, callbacks=[EarlyStopping(patience=10)])\n",
    "history = model.fit(X_train_preprocessed, y_train, epochs=100, validation_split=0.2, verbose=1)"
   ]
  },
  {
   "cell_type": "markdown",
   "metadata": {},
   "source": [
    "Modelin değerlendirilmesi"
   ]
  },
  {
   "cell_type": "code",
   "execution_count": 13,
   "metadata": {},
   "outputs": [
    {
     "name": "stdout",
     "output_type": "stream",
     "text": [
      "\u001b[1m39/39\u001b[0m \u001b[32m━━━━━━━━━━━━━━━━━━━━\u001b[0m\u001b[37m\u001b[0m \u001b[1m0s\u001b[0m 293us/step - loss: 47212064.0000 - mae: 4403.0776 - mse: 47212064.0000\n",
      "Test Loss: 48199468.0, Test MAE: 4473.7587890625, Test MSE: 48199468.0\n"
     ]
    }
   ],
   "source": [
    "test_results = model.evaluate(X_test_preprocessed, y_test, verbose=1)\n",
    "print(f\"Test Loss: {test_results[0]}, Test MAE: {test_results[1]}, Test MSE: {test_results[2]}\")"
   ]
  },
  {
   "cell_type": "code",
   "execution_count": 14,
   "metadata": {},
   "outputs": [
    {
     "name": "stdout",
     "output_type": "stream",
     "text": [
      "\u001b[1m39/39\u001b[0m \u001b[32m━━━━━━━━━━━━━━━━━━━━\u001b[0m\u001b[37m\u001b[0m \u001b[1m0s\u001b[0m 1ms/step \n",
      "Neural Network Regression\n",
      "Mean Squared Error: 48199467.28831068\n",
      "Root Mean Squared Error: 6942.583617667898\n",
      "R^2 Score: 0.5888713221012346\n"
     ]
    }
   ],
   "source": [
    "y_pred_nn = model.predict(X_test_preprocessed)\n",
    "mse_nn = mean_squared_error(y_test, y_pred_nn)\n",
    "rmse_nn = np.sqrt(mse_nn)\n",
    "r2_nn = r2_score(y_test, y_pred_nn)\n",
    "print('Neural Network Regression')\n",
    "print('Mean Squared Error:', mse_nn)\n",
    "print('Root Mean Squared Error:', rmse_nn)\n",
    "print('R^2 Score:', r2_nn)"
   ]
  },
  {
   "cell_type": "markdown",
   "metadata": {},
   "source": [
    "Öğrenme eğrilerinin kontrol edilmesi"
   ]
  },
  {
   "cell_type": "code",
   "execution_count": 15,
   "metadata": {},
   "outputs": [
    {
     "data": {
      "image/png": "[encoded data removed]",
      "text/plain": [
       "<Figure size 640x480 with 1 Axes>"
      ]
     },
     "metadata": {},
     "output_type": "display_data"
    }
   ],
   "source": [
    "plt.plot(history.history['loss'], label='train')\n",
    "plt.plot(history.history['val_loss'], label='validation')\n",
    "plt.xlabel('Epoch')\n",
    "plt.ylabel('Loss')\n",
    "plt.legend()\n",
    "plt.show()"
   ]
  },
  {
   "cell_type": "code",
   "execution_count": null,
   "metadata": {},
   "outputs": [],
   "source": []
  }
 ],
 "metadata": {
  "kernelspec": {
   "display_name": "Python 3",
   "language": "python",
   "name": "python3"
  },
  "language_info": {
   "codemirror_mode": {
    "name": "ipython",
    "version": 3
   },
   "file_extension": ".py",
   "mimetype": "text/x-python",
   "name": "python",
   "nbconvert_exporter": "python",
   "pygments_lexer": "ipython3",
   "version": "3.12.3"
  }
 },
 "nbformat": 4,
 "nbformat_minor": 2
}
